{
 "cells": [
  {
   "cell_type": "code",
   "execution_count": 1,
   "metadata": {
    "ExecuteTime": {
     "end_time": "2023-11-28T04:51:26.661615100Z",
     "start_time": "2023-11-28T04:51:25.546265900Z"
    }
   },
   "outputs": [],
   "source": [
    "import os\n",
    "import random\n",
    "import numpy as np\n",
    "import matplotlib.pyplot as plt\n",
    "from matplotlib import font_manager, rc\n",
    "\n",
    "# 한글 폰트 설정\n",
    "font_path = \"C:/Windows/Fonts/H2GTRM.TTF\"  # 폰트 파일 경로\n",
    "font_name = font_manager.FontProperties(fname=font_path).get_name()\n",
    "rc('font', family=font_name)\n",
    "\n",
    "# 마이너스 폰트 깨짐 방지\n",
    "plt.rcParams['axes.unicode_minus'] = False\n",
    "\n",
    "def seed_everything(seed):\n",
    "    random.seed(seed)\n",
    "    os.environ['PYTHONHASHSEED'] = str(seed)\n",
    "    np.random.seed(seed)\n",
    "\n",
    "seed_everything(42)"
   ]
  },
  {
   "cell_type": "code",
   "execution_count": 2,
   "metadata": {
    "ExecuteTime": {
     "end_time": "2023-11-28T04:51:31.924522100Z",
     "start_time": "2023-11-28T04:51:26.672609200Z"
    }
   },
   "outputs": [
    {
     "data": {
      "text/plain": "               ID           사고일시   요일 기상상태            시군구      도로형태 노면상태  \\\n0  ACCIDENT_00000  2019-01-01 00  화요일   맑음   대구광역시 중구 대신동  단일로 - 기타   건조   \n1  ACCIDENT_00001  2019-01-01 00  화요일   흐림  대구광역시 달서구 감삼동  단일로 - 기타   건조   \n2  ACCIDENT_00002  2019-01-01 01  화요일   맑음  대구광역시 수성구 두산동  단일로 - 기타   건조   \n3  ACCIDENT_00003  2019-01-01 02  화요일   맑음   대구광역시 북구 복현동  단일로 - 기타   건조   \n4  ACCIDENT_00004  2019-01-01 04  화요일   맑음   대구광역시 동구 신암동  단일로 - 기타   건조   \n\n   사고유형 사고유형 - 세부분류     법규위반  ... 가해운전자 상해정도 피해운전자 차종 피해운전자 성별 피해운전자 연령  \\\n0  차대사람  길가장자리구역통행중  안전운전불이행  ...       상해없음      보행자        여      70세   \n1  차대사람       보도통행중       기타  ...       상해없음      보행자        남      61세   \n2  차대사람       차도통행중  안전운전불이행  ...       상해없음      보행자        남      38세   \n3   차대차          추돌  안전운전불이행  ...       상해없음       승용        남      36세   \n4   차대차          추돌  안전운전불이행  ...       상해없음       승용        남      52세   \n\n  피해운전자 상해정도 사망자수 중상자수 경상자수  부상자수  ECLO  \n0         중상    0    1    0     0     5  \n1         경상    0    0    1     0     3  \n2         경상    0    0    1     0     3  \n3         중상    0    1    0     0     5  \n4         경상    0    0    1     0     3  \n\n[5 rows x 23 columns]",
      "text/html": "<div>\n<style scoped>\n    .dataframe tbody tr th:only-of-type {\n        vertical-align: middle;\n    }\n\n    .dataframe tbody tr th {\n        vertical-align: top;\n    }\n\n    .dataframe thead th {\n        text-align: right;\n    }\n</style>\n<table border=\"1\" class=\"dataframe\">\n  <thead>\n    <tr style=\"text-align: right;\">\n      <th></th>\n      <th>ID</th>\n      <th>사고일시</th>\n      <th>요일</th>\n      <th>기상상태</th>\n      <th>시군구</th>\n      <th>도로형태</th>\n      <th>노면상태</th>\n      <th>사고유형</th>\n      <th>사고유형 - 세부분류</th>\n      <th>법규위반</th>\n      <th>...</th>\n      <th>가해운전자 상해정도</th>\n      <th>피해운전자 차종</th>\n      <th>피해운전자 성별</th>\n      <th>피해운전자 연령</th>\n      <th>피해운전자 상해정도</th>\n      <th>사망자수</th>\n      <th>중상자수</th>\n      <th>경상자수</th>\n      <th>부상자수</th>\n      <th>ECLO</th>\n    </tr>\n  </thead>\n  <tbody>\n    <tr>\n      <th>0</th>\n      <td>ACCIDENT_00000</td>\n      <td>2019-01-01 00</td>\n      <td>화요일</td>\n      <td>맑음</td>\n      <td>대구광역시 중구 대신동</td>\n      <td>단일로 - 기타</td>\n      <td>건조</td>\n      <td>차대사람</td>\n      <td>길가장자리구역통행중</td>\n      <td>안전운전불이행</td>\n      <td>...</td>\n      <td>상해없음</td>\n      <td>보행자</td>\n      <td>여</td>\n      <td>70세</td>\n      <td>중상</td>\n      <td>0</td>\n      <td>1</td>\n      <td>0</td>\n      <td>0</td>\n      <td>5</td>\n    </tr>\n    <tr>\n      <th>1</th>\n      <td>ACCIDENT_00001</td>\n      <td>2019-01-01 00</td>\n      <td>화요일</td>\n      <td>흐림</td>\n      <td>대구광역시 달서구 감삼동</td>\n      <td>단일로 - 기타</td>\n      <td>건조</td>\n      <td>차대사람</td>\n      <td>보도통행중</td>\n      <td>기타</td>\n      <td>...</td>\n      <td>상해없음</td>\n      <td>보행자</td>\n      <td>남</td>\n      <td>61세</td>\n      <td>경상</td>\n      <td>0</td>\n      <td>0</td>\n      <td>1</td>\n      <td>0</td>\n      <td>3</td>\n    </tr>\n    <tr>\n      <th>2</th>\n      <td>ACCIDENT_00002</td>\n      <td>2019-01-01 01</td>\n      <td>화요일</td>\n      <td>맑음</td>\n      <td>대구광역시 수성구 두산동</td>\n      <td>단일로 - 기타</td>\n      <td>건조</td>\n      <td>차대사람</td>\n      <td>차도통행중</td>\n      <td>안전운전불이행</td>\n      <td>...</td>\n      <td>상해없음</td>\n      <td>보행자</td>\n      <td>남</td>\n      <td>38세</td>\n      <td>경상</td>\n      <td>0</td>\n      <td>0</td>\n      <td>1</td>\n      <td>0</td>\n      <td>3</td>\n    </tr>\n    <tr>\n      <th>3</th>\n      <td>ACCIDENT_00003</td>\n      <td>2019-01-01 02</td>\n      <td>화요일</td>\n      <td>맑음</td>\n      <td>대구광역시 북구 복현동</td>\n      <td>단일로 - 기타</td>\n      <td>건조</td>\n      <td>차대차</td>\n      <td>추돌</td>\n      <td>안전운전불이행</td>\n      <td>...</td>\n      <td>상해없음</td>\n      <td>승용</td>\n      <td>남</td>\n      <td>36세</td>\n      <td>중상</td>\n      <td>0</td>\n      <td>1</td>\n      <td>0</td>\n      <td>0</td>\n      <td>5</td>\n    </tr>\n    <tr>\n      <th>4</th>\n      <td>ACCIDENT_00004</td>\n      <td>2019-01-01 04</td>\n      <td>화요일</td>\n      <td>맑음</td>\n      <td>대구광역시 동구 신암동</td>\n      <td>단일로 - 기타</td>\n      <td>건조</td>\n      <td>차대차</td>\n      <td>추돌</td>\n      <td>안전운전불이행</td>\n      <td>...</td>\n      <td>상해없음</td>\n      <td>승용</td>\n      <td>남</td>\n      <td>52세</td>\n      <td>경상</td>\n      <td>0</td>\n      <td>0</td>\n      <td>1</td>\n      <td>0</td>\n      <td>3</td>\n    </tr>\n  </tbody>\n</table>\n<p>5 rows × 23 columns</p>\n</div>"
     },
     "metadata": {},
     "output_type": "display_data"
    },
    {
     "data": {
      "text/plain": "                   ID           사고일시   요일 기상상태            시군구         도로형태  \\\n10958  ACCIDENT_50567  2022-12-31 18  토요일   맑음   대구광역시 남구 대명동     단일로 - 터널   \n10959  ACCIDENT_50568  2022-12-31 18  토요일   맑음  대구광역시 수성구 시지동     단일로 - 기타   \n10960  ACCIDENT_50569  2022-12-31 20  토요일   맑음  대구광역시 수성구 연호동     단일로 - 기타   \n10961  ACCIDENT_50570  2022-12-31 20  토요일   맑음  대구광역시 수성구 범물동  교차로 - 교차로부근   \n10962  ACCIDENT_50571  2022-12-31 21  토요일   맑음   대구광역시 동구 효목동  교차로 - 교차로부근   \n\n      노면상태 사고유형  \n10958   건조  차대차  \n10959   건조  차대차  \n10960   건조  차대차  \n10961   건조  차대차  \n10962   건조  차대차  ",
      "text/html": "<div>\n<style scoped>\n    .dataframe tbody tr th:only-of-type {\n        vertical-align: middle;\n    }\n\n    .dataframe tbody tr th {\n        vertical-align: top;\n    }\n\n    .dataframe thead th {\n        text-align: right;\n    }\n</style>\n<table border=\"1\" class=\"dataframe\">\n  <thead>\n    <tr style=\"text-align: right;\">\n      <th></th>\n      <th>ID</th>\n      <th>사고일시</th>\n      <th>요일</th>\n      <th>기상상태</th>\n      <th>시군구</th>\n      <th>도로형태</th>\n      <th>노면상태</th>\n      <th>사고유형</th>\n    </tr>\n  </thead>\n  <tbody>\n    <tr>\n      <th>10958</th>\n      <td>ACCIDENT_50567</td>\n      <td>2022-12-31 18</td>\n      <td>토요일</td>\n      <td>맑음</td>\n      <td>대구광역시 남구 대명동</td>\n      <td>단일로 - 터널</td>\n      <td>건조</td>\n      <td>차대차</td>\n    </tr>\n    <tr>\n      <th>10959</th>\n      <td>ACCIDENT_50568</td>\n      <td>2022-12-31 18</td>\n      <td>토요일</td>\n      <td>맑음</td>\n      <td>대구광역시 수성구 시지동</td>\n      <td>단일로 - 기타</td>\n      <td>건조</td>\n      <td>차대차</td>\n    </tr>\n    <tr>\n      <th>10960</th>\n      <td>ACCIDENT_50569</td>\n      <td>2022-12-31 20</td>\n      <td>토요일</td>\n      <td>맑음</td>\n      <td>대구광역시 수성구 연호동</td>\n      <td>단일로 - 기타</td>\n      <td>건조</td>\n      <td>차대차</td>\n    </tr>\n    <tr>\n      <th>10961</th>\n      <td>ACCIDENT_50570</td>\n      <td>2022-12-31 20</td>\n      <td>토요일</td>\n      <td>맑음</td>\n      <td>대구광역시 수성구 범물동</td>\n      <td>교차로 - 교차로부근</td>\n      <td>건조</td>\n      <td>차대차</td>\n    </tr>\n    <tr>\n      <th>10962</th>\n      <td>ACCIDENT_50571</td>\n      <td>2022-12-31 21</td>\n      <td>토요일</td>\n      <td>맑음</td>\n      <td>대구광역시 동구 효목동</td>\n      <td>교차로 - 교차로부근</td>\n      <td>건조</td>\n      <td>차대차</td>\n    </tr>\n  </tbody>\n</table>\n</div>"
     },
     "metadata": {},
     "output_type": "display_data"
    },
    {
     "data": {
      "text/plain": "                            ID           사고일시   요일 기상상태            시군구  \\\n0  COUNTRYWIDE_ACCIDENT_000000  2019-01-01 00  화요일   맑음  서울특별시 강서구 방화동   \n1  COUNTRYWIDE_ACCIDENT_000001  2019-01-01 00  화요일   맑음    경기도 포천시 소흘읍   \n2  COUNTRYWIDE_ACCIDENT_000002  2019-01-01 00  화요일   맑음    경기도 양주시 고암동   \n3  COUNTRYWIDE_ACCIDENT_000003  2019-01-01 00  화요일   맑음   경기도 남양주시 다산동   \n4  COUNTRYWIDE_ACCIDENT_000004  2019-01-01 00  화요일   맑음  인천광역시 부평구 부평동   \n\n             도로형태 노면상태  사고유형 사고유형 - 세부분류       법규위반  ... 가해운전자 상해정도 피해운전자 차종  \\\n0  교차로 - 교차로횡단보도내   건조  차대사람         횡단중  보행자보호의무위반  ...       상해없음      보행자   \n1      교차로 - 교차로안   건조   차대차          기타  직진우회전진행방해  ...       상해없음       이륜   \n2      교차로 - 교차로안   건조   차대차        측면충돌       신호위반  ...       상해없음       이륜   \n3         기타 - 기타   건조  차대사람         횡단중  보행자보호의무위반  ...       상해없음      보행자   \n4      교차로 - 교차로안   건조   차대차        측면충돌       신호위반  ...       상해없음       승용   \n\n  피해운전자 성별 피해운전자 연령 피해운전자 상해정도 사망자수 중상자수 경상자수  부상자수  ECLO  \n0        남      40세         경상    0    0    1     0     3  \n1        남      20세         경상    0    0    1     0     3  \n2        남      17세         중상    0    1    0     0     5  \n3        남      10세         중상    0    2    0     0    10  \n4        남      56세         경상    0    0    2     1     7  \n\n[5 rows x 23 columns]",
      "text/html": "<div>\n<style scoped>\n    .dataframe tbody tr th:only-of-type {\n        vertical-align: middle;\n    }\n\n    .dataframe tbody tr th {\n        vertical-align: top;\n    }\n\n    .dataframe thead th {\n        text-align: right;\n    }\n</style>\n<table border=\"1\" class=\"dataframe\">\n  <thead>\n    <tr style=\"text-align: right;\">\n      <th></th>\n      <th>ID</th>\n      <th>사고일시</th>\n      <th>요일</th>\n      <th>기상상태</th>\n      <th>시군구</th>\n      <th>도로형태</th>\n      <th>노면상태</th>\n      <th>사고유형</th>\n      <th>사고유형 - 세부분류</th>\n      <th>법규위반</th>\n      <th>...</th>\n      <th>가해운전자 상해정도</th>\n      <th>피해운전자 차종</th>\n      <th>피해운전자 성별</th>\n      <th>피해운전자 연령</th>\n      <th>피해운전자 상해정도</th>\n      <th>사망자수</th>\n      <th>중상자수</th>\n      <th>경상자수</th>\n      <th>부상자수</th>\n      <th>ECLO</th>\n    </tr>\n  </thead>\n  <tbody>\n    <tr>\n      <th>0</th>\n      <td>COUNTRYWIDE_ACCIDENT_000000</td>\n      <td>2019-01-01 00</td>\n      <td>화요일</td>\n      <td>맑음</td>\n      <td>서울특별시 강서구 방화동</td>\n      <td>교차로 - 교차로횡단보도내</td>\n      <td>건조</td>\n      <td>차대사람</td>\n      <td>횡단중</td>\n      <td>보행자보호의무위반</td>\n      <td>...</td>\n      <td>상해없음</td>\n      <td>보행자</td>\n      <td>남</td>\n      <td>40세</td>\n      <td>경상</td>\n      <td>0</td>\n      <td>0</td>\n      <td>1</td>\n      <td>0</td>\n      <td>3</td>\n    </tr>\n    <tr>\n      <th>1</th>\n      <td>COUNTRYWIDE_ACCIDENT_000001</td>\n      <td>2019-01-01 00</td>\n      <td>화요일</td>\n      <td>맑음</td>\n      <td>경기도 포천시 소흘읍</td>\n      <td>교차로 - 교차로안</td>\n      <td>건조</td>\n      <td>차대차</td>\n      <td>기타</td>\n      <td>직진우회전진행방해</td>\n      <td>...</td>\n      <td>상해없음</td>\n      <td>이륜</td>\n      <td>남</td>\n      <td>20세</td>\n      <td>경상</td>\n      <td>0</td>\n      <td>0</td>\n      <td>1</td>\n      <td>0</td>\n      <td>3</td>\n    </tr>\n    <tr>\n      <th>2</th>\n      <td>COUNTRYWIDE_ACCIDENT_000002</td>\n      <td>2019-01-01 00</td>\n      <td>화요일</td>\n      <td>맑음</td>\n      <td>경기도 양주시 고암동</td>\n      <td>교차로 - 교차로안</td>\n      <td>건조</td>\n      <td>차대차</td>\n      <td>측면충돌</td>\n      <td>신호위반</td>\n      <td>...</td>\n      <td>상해없음</td>\n      <td>이륜</td>\n      <td>남</td>\n      <td>17세</td>\n      <td>중상</td>\n      <td>0</td>\n      <td>1</td>\n      <td>0</td>\n      <td>0</td>\n      <td>5</td>\n    </tr>\n    <tr>\n      <th>3</th>\n      <td>COUNTRYWIDE_ACCIDENT_000003</td>\n      <td>2019-01-01 00</td>\n      <td>화요일</td>\n      <td>맑음</td>\n      <td>경기도 남양주시 다산동</td>\n      <td>기타 - 기타</td>\n      <td>건조</td>\n      <td>차대사람</td>\n      <td>횡단중</td>\n      <td>보행자보호의무위반</td>\n      <td>...</td>\n      <td>상해없음</td>\n      <td>보행자</td>\n      <td>남</td>\n      <td>10세</td>\n      <td>중상</td>\n      <td>0</td>\n      <td>2</td>\n      <td>0</td>\n      <td>0</td>\n      <td>10</td>\n    </tr>\n    <tr>\n      <th>4</th>\n      <td>COUNTRYWIDE_ACCIDENT_000004</td>\n      <td>2019-01-01 00</td>\n      <td>화요일</td>\n      <td>맑음</td>\n      <td>인천광역시 부평구 부평동</td>\n      <td>교차로 - 교차로안</td>\n      <td>건조</td>\n      <td>차대차</td>\n      <td>측면충돌</td>\n      <td>신호위반</td>\n      <td>...</td>\n      <td>상해없음</td>\n      <td>승용</td>\n      <td>남</td>\n      <td>56세</td>\n      <td>경상</td>\n      <td>0</td>\n      <td>0</td>\n      <td>2</td>\n      <td>1</td>\n      <td>7</td>\n    </tr>\n  </tbody>\n</table>\n<p>5 rows × 23 columns</p>\n</div>"
     },
     "metadata": {},
     "output_type": "display_data"
    }
   ],
   "source": [
    "import pandas as pd \n",
    "\n",
    "train_org = pd.read_csv('../data/open/train.csv') \n",
    "test_org = pd.read_csv('../data/open/test.csv')\n",
    "countrywide_org = pd.read_csv('../data/open/external_open/countrywide_accident.csv')\n",
    "\n",
    "display(train_org.head())\n",
    "display(test_org.tail())\n",
    "display(countrywide_org.head())"
   ]
  },
  {
   "cell_type": "code",
   "execution_count": 3,
   "metadata": {
    "ExecuteTime": {
     "end_time": "2023-11-28T05:00:32.750612200Z",
     "start_time": "2023-11-28T05:00:32.624248800Z"
    }
   },
   "outputs": [
    {
     "data": {
      "text/plain": "'train : 2019-01-01 00 ~ 2021-12-31 23'"
     },
     "metadata": {},
     "output_type": "display_data"
    },
    {
     "data": {
      "text/plain": "'test : 2022-01-01 01 ~ 2022-12-31 21'"
     },
     "metadata": {},
     "output_type": "display_data"
    },
    {
     "data": {
      "text/plain": "'countryside : 2019-01-01 00 ~ 2021-12-31 23'"
     },
     "metadata": {},
     "output_type": "display_data"
    }
   ],
   "source": [
    "display(f\"train : {train_org.iloc[0]['사고일시']} ~ {train_org.iloc[-1]['사고일시']}\")\n",
    "display(f\"test : {test_org.iloc[0]['사고일시']} ~ {test_org.iloc[-1]['사고일시']}\")     \n",
    "display(f\"countryside : {countrywide_org.iloc[0]['사고일시']} ~ {countrywide_org.iloc[-1]['사고일시']}\")     "
   ]
  },
  {
   "cell_type": "code",
   "execution_count": 4,
   "metadata": {
    "ExecuteTime": {
     "end_time": "2023-11-28T05:00:39.134098800Z",
     "start_time": "2023-11-28T05:00:39.033124800Z"
    }
   },
   "outputs": [
    {
     "data": {
      "text/plain": "               ID  ECLO\n0  ACCIDENT_39609     0\n1  ACCIDENT_39610     0\n2  ACCIDENT_39611     0\n3  ACCIDENT_39612     0\n4  ACCIDENT_39613     0",
      "text/html": "<div>\n<style scoped>\n    .dataframe tbody tr th:only-of-type {\n        vertical-align: middle;\n    }\n\n    .dataframe tbody tr th {\n        vertical-align: top;\n    }\n\n    .dataframe thead th {\n        text-align: right;\n    }\n</style>\n<table border=\"1\" class=\"dataframe\">\n  <thead>\n    <tr style=\"text-align: right;\">\n      <th></th>\n      <th>ID</th>\n      <th>ECLO</th>\n    </tr>\n  </thead>\n  <tbody>\n    <tr>\n      <th>0</th>\n      <td>ACCIDENT_39609</td>\n      <td>0</td>\n    </tr>\n    <tr>\n      <th>1</th>\n      <td>ACCIDENT_39610</td>\n      <td>0</td>\n    </tr>\n    <tr>\n      <th>2</th>\n      <td>ACCIDENT_39611</td>\n      <td>0</td>\n    </tr>\n    <tr>\n      <th>3</th>\n      <td>ACCIDENT_39612</td>\n      <td>0</td>\n    </tr>\n    <tr>\n      <th>4</th>\n      <td>ACCIDENT_39613</td>\n      <td>0</td>\n    </tr>\n  </tbody>\n</table>\n</div>"
     },
     "execution_count": 4,
     "metadata": {},
     "output_type": "execute_result"
    }
   ],
   "source": [
    "sample_submission = pd.read_csv(\"../data/open/sample_submission.csv\")\n",
    "sample_submission.head()"
   ]
  },
  {
   "cell_type": "code",
   "execution_count": 5,
   "outputs": [
    {
     "data": {
      "text/plain": "Index(['ID', '사고일시', '요일', '기상상태', '시군구', '도로형태', '노면상태', '사고유형',\n       '사고유형 - 세부분류', '법규위반', '가해운전자 차종', '가해운전자 성별', '가해운전자 연령', '가해운전자 상해정도',\n       '피해운전자 차종', '피해운전자 성별', '피해운전자 연령', '피해운전자 상해정도', '사망자수', '중상자수',\n       '경상자수', '부상자수', 'ECLO'],\n      dtype='object')"
     },
     "metadata": {},
     "output_type": "display_data"
    },
    {
     "data": {
      "text/plain": "Index(['ID', '사고일시', '요일', '기상상태', '시군구', '도로형태', '노면상태', '사고유형',\n       '사고유형 - 세부분류', '법규위반', '가해운전자 차종', '가해운전자 성별', '가해운전자 연령', '가해운전자 상해정도',\n       '피해운전자 차종', '피해운전자 성별', '피해운전자 연령', '피해운전자 상해정도', '사망자수', '중상자수',\n       '경상자수', '부상자수', 'ECLO'],\n      dtype='object')"
     },
     "metadata": {},
     "output_type": "display_data"
    }
   ],
   "source": [
    "display(train_org.columns)\n",
    "display(countrywide_org.columns)"
   ],
   "metadata": {
    "collapsed": false,
    "ExecuteTime": {
     "end_time": "2023-11-28T05:00:42.888525700Z",
     "start_time": "2023-11-28T05:00:42.854528800Z"
    }
   }
  },
  {
   "cell_type": "code",
   "execution_count": null,
   "outputs": [],
   "source": [],
   "metadata": {
    "collapsed": false
   }
  },
  {
   "cell_type": "code",
   "execution_count": 6,
   "outputs": [
    {
     "data": {
      "text/plain": "                                ID           사고일시   요일 기상상태            시군구  \\\n0                   ACCIDENT_00000  2019-01-01 00  화요일   맑음   대구광역시 중구 대신동   \n46599  COUNTRYWIDE_ACCIDENT_000006  2019-01-01 00  화요일   맑음   전라남도 순천시 조례동   \n1                   ACCIDENT_00001  2019-01-01 00  화요일   흐림  대구광역시 달서구 감삼동   \n2                   ACCIDENT_00002  2019-01-01 01  화요일   맑음  대구광역시 수성구 두산동   \n3                   ACCIDENT_00003  2019-01-01 02  화요일   맑음   대구광역시 북구 복현동   \n4                   ACCIDENT_00004  2019-01-01 04  화요일   맑음   대구광역시 동구 신암동   \n5                   ACCIDENT_00005  2019-01-01 04  화요일   맑음  대구광역시 달서구 감삼동   \n6                   ACCIDENT_00006  2019-01-01 05  화요일   맑음  대구광역시 수성구 지산동   \n7                   ACCIDENT_00007  2019-01-01 06  화요일   흐림  대구광역시 달서구 상인동   \n8                   ACCIDENT_00008  2019-01-01 06  화요일   맑음   대구광역시 북구 태전동   \n\n             도로형태 노면상태  사고유형 사고유형 - 세부분류       법규위반  ... 가해운전자 상해정도 피해운전자 차종  \\\n0        단일로 - 기타   건조  차대사람  길가장자리구역통행중    안전운전불이행  ...       상해없음      보행자   \n46599    단일로 - 기타   건조  차량단독       공작물충돌    안전운전불이행  ...         경상      NaN   \n1        단일로 - 기타   건조  차대사람       보도통행중         기타  ...       상해없음      보행자   \n2        단일로 - 기타   건조  차대사람       차도통행중    안전운전불이행  ...       상해없음      보행자   \n3        단일로 - 기타   건조   차대차          추돌    안전운전불이행  ...       상해없음       승용   \n4        단일로 - 기타   건조   차대차          추돌    안전운전불이행  ...       상해없음       승용   \n5        단일로 - 기타   건조   차대차        측면충돌    안전운전불이행  ...       상해없음       승용   \n6      교차로 - 교차로안   건조   차대차        측면충돌  교차로운행방법위반  ...         경상       승용   \n7        단일로 - 기타   건조   차대차          추돌    안전운전불이행  ...       상해없음       승용   \n8         기타 - 기타   건조   차대차          기타    안전운전불이행  ...       상해없음      자전거   \n\n      피해운전자 성별 피해운전자 연령 피해운전자 상해정도 사망자수 중상자수 경상자수  부상자수  ECLO  \n0            여      70세         중상    0    1    0     0     5  \n46599      NaN      NaN        NaN    0    0    1     0     3  \n1            남      61세         경상    0    0    1     0     3  \n2            남      38세         경상    0    0    1     0     3  \n3            남      36세         중상    0    1    0     0     5  \n4            남      52세         경상    0    0    1     0     3  \n5            남      35세         경상    0    0    2     0     6  \n6            남      76세         경상    0    0    6     0    18  \n7            남      53세         경상    0    0    1     0     3  \n8            남      62세         중상    0    1    0     0     5  \n\n[10 rows x 23 columns]",
      "text/html": "<div>\n<style scoped>\n    .dataframe tbody tr th:only-of-type {\n        vertical-align: middle;\n    }\n\n    .dataframe tbody tr th {\n        vertical-align: top;\n    }\n\n    .dataframe thead th {\n        text-align: right;\n    }\n</style>\n<table border=\"1\" class=\"dataframe\">\n  <thead>\n    <tr style=\"text-align: right;\">\n      <th></th>\n      <th>ID</th>\n      <th>사고일시</th>\n      <th>요일</th>\n      <th>기상상태</th>\n      <th>시군구</th>\n      <th>도로형태</th>\n      <th>노면상태</th>\n      <th>사고유형</th>\n      <th>사고유형 - 세부분류</th>\n      <th>법규위반</th>\n      <th>...</th>\n      <th>가해운전자 상해정도</th>\n      <th>피해운전자 차종</th>\n      <th>피해운전자 성별</th>\n      <th>피해운전자 연령</th>\n      <th>피해운전자 상해정도</th>\n      <th>사망자수</th>\n      <th>중상자수</th>\n      <th>경상자수</th>\n      <th>부상자수</th>\n      <th>ECLO</th>\n    </tr>\n  </thead>\n  <tbody>\n    <tr>\n      <th>0</th>\n      <td>ACCIDENT_00000</td>\n      <td>2019-01-01 00</td>\n      <td>화요일</td>\n      <td>맑음</td>\n      <td>대구광역시 중구 대신동</td>\n      <td>단일로 - 기타</td>\n      <td>건조</td>\n      <td>차대사람</td>\n      <td>길가장자리구역통행중</td>\n      <td>안전운전불이행</td>\n      <td>...</td>\n      <td>상해없음</td>\n      <td>보행자</td>\n      <td>여</td>\n      <td>70세</td>\n      <td>중상</td>\n      <td>0</td>\n      <td>1</td>\n      <td>0</td>\n      <td>0</td>\n      <td>5</td>\n    </tr>\n    <tr>\n      <th>46599</th>\n      <td>COUNTRYWIDE_ACCIDENT_000006</td>\n      <td>2019-01-01 00</td>\n      <td>화요일</td>\n      <td>맑음</td>\n      <td>전라남도 순천시 조례동</td>\n      <td>단일로 - 기타</td>\n      <td>건조</td>\n      <td>차량단독</td>\n      <td>공작물충돌</td>\n      <td>안전운전불이행</td>\n      <td>...</td>\n      <td>경상</td>\n      <td>NaN</td>\n      <td>NaN</td>\n      <td>NaN</td>\n      <td>NaN</td>\n      <td>0</td>\n      <td>0</td>\n      <td>1</td>\n      <td>0</td>\n      <td>3</td>\n    </tr>\n    <tr>\n      <th>1</th>\n      <td>ACCIDENT_00001</td>\n      <td>2019-01-01 00</td>\n      <td>화요일</td>\n      <td>흐림</td>\n      <td>대구광역시 달서구 감삼동</td>\n      <td>단일로 - 기타</td>\n      <td>건조</td>\n      <td>차대사람</td>\n      <td>보도통행중</td>\n      <td>기타</td>\n      <td>...</td>\n      <td>상해없음</td>\n      <td>보행자</td>\n      <td>남</td>\n      <td>61세</td>\n      <td>경상</td>\n      <td>0</td>\n      <td>0</td>\n      <td>1</td>\n      <td>0</td>\n      <td>3</td>\n    </tr>\n    <tr>\n      <th>2</th>\n      <td>ACCIDENT_00002</td>\n      <td>2019-01-01 01</td>\n      <td>화요일</td>\n      <td>맑음</td>\n      <td>대구광역시 수성구 두산동</td>\n      <td>단일로 - 기타</td>\n      <td>건조</td>\n      <td>차대사람</td>\n      <td>차도통행중</td>\n      <td>안전운전불이행</td>\n      <td>...</td>\n      <td>상해없음</td>\n      <td>보행자</td>\n      <td>남</td>\n      <td>38세</td>\n      <td>경상</td>\n      <td>0</td>\n      <td>0</td>\n      <td>1</td>\n      <td>0</td>\n      <td>3</td>\n    </tr>\n    <tr>\n      <th>3</th>\n      <td>ACCIDENT_00003</td>\n      <td>2019-01-01 02</td>\n      <td>화요일</td>\n      <td>맑음</td>\n      <td>대구광역시 북구 복현동</td>\n      <td>단일로 - 기타</td>\n      <td>건조</td>\n      <td>차대차</td>\n      <td>추돌</td>\n      <td>안전운전불이행</td>\n      <td>...</td>\n      <td>상해없음</td>\n      <td>승용</td>\n      <td>남</td>\n      <td>36세</td>\n      <td>중상</td>\n      <td>0</td>\n      <td>1</td>\n      <td>0</td>\n      <td>0</td>\n      <td>5</td>\n    </tr>\n    <tr>\n      <th>4</th>\n      <td>ACCIDENT_00004</td>\n      <td>2019-01-01 04</td>\n      <td>화요일</td>\n      <td>맑음</td>\n      <td>대구광역시 동구 신암동</td>\n      <td>단일로 - 기타</td>\n      <td>건조</td>\n      <td>차대차</td>\n      <td>추돌</td>\n      <td>안전운전불이행</td>\n      <td>...</td>\n      <td>상해없음</td>\n      <td>승용</td>\n      <td>남</td>\n      <td>52세</td>\n      <td>경상</td>\n      <td>0</td>\n      <td>0</td>\n      <td>1</td>\n      <td>0</td>\n      <td>3</td>\n    </tr>\n    <tr>\n      <th>5</th>\n      <td>ACCIDENT_00005</td>\n      <td>2019-01-01 04</td>\n      <td>화요일</td>\n      <td>맑음</td>\n      <td>대구광역시 달서구 감삼동</td>\n      <td>단일로 - 기타</td>\n      <td>건조</td>\n      <td>차대차</td>\n      <td>측면충돌</td>\n      <td>안전운전불이행</td>\n      <td>...</td>\n      <td>상해없음</td>\n      <td>승용</td>\n      <td>남</td>\n      <td>35세</td>\n      <td>경상</td>\n      <td>0</td>\n      <td>0</td>\n      <td>2</td>\n      <td>0</td>\n      <td>6</td>\n    </tr>\n    <tr>\n      <th>6</th>\n      <td>ACCIDENT_00006</td>\n      <td>2019-01-01 05</td>\n      <td>화요일</td>\n      <td>맑음</td>\n      <td>대구광역시 수성구 지산동</td>\n      <td>교차로 - 교차로안</td>\n      <td>건조</td>\n      <td>차대차</td>\n      <td>측면충돌</td>\n      <td>교차로운행방법위반</td>\n      <td>...</td>\n      <td>경상</td>\n      <td>승용</td>\n      <td>남</td>\n      <td>76세</td>\n      <td>경상</td>\n      <td>0</td>\n      <td>0</td>\n      <td>6</td>\n      <td>0</td>\n      <td>18</td>\n    </tr>\n    <tr>\n      <th>7</th>\n      <td>ACCIDENT_00007</td>\n      <td>2019-01-01 06</td>\n      <td>화요일</td>\n      <td>흐림</td>\n      <td>대구광역시 달서구 상인동</td>\n      <td>단일로 - 기타</td>\n      <td>건조</td>\n      <td>차대차</td>\n      <td>추돌</td>\n      <td>안전운전불이행</td>\n      <td>...</td>\n      <td>상해없음</td>\n      <td>승용</td>\n      <td>남</td>\n      <td>53세</td>\n      <td>경상</td>\n      <td>0</td>\n      <td>0</td>\n      <td>1</td>\n      <td>0</td>\n      <td>3</td>\n    </tr>\n    <tr>\n      <th>8</th>\n      <td>ACCIDENT_00008</td>\n      <td>2019-01-01 06</td>\n      <td>화요일</td>\n      <td>맑음</td>\n      <td>대구광역시 북구 태전동</td>\n      <td>기타 - 기타</td>\n      <td>건조</td>\n      <td>차대차</td>\n      <td>기타</td>\n      <td>안전운전불이행</td>\n      <td>...</td>\n      <td>상해없음</td>\n      <td>자전거</td>\n      <td>남</td>\n      <td>62세</td>\n      <td>중상</td>\n      <td>0</td>\n      <td>1</td>\n      <td>0</td>\n      <td>0</td>\n      <td>5</td>\n    </tr>\n  </tbody>\n</table>\n<p>10 rows × 23 columns</p>\n</div>"
     },
     "execution_count": 6,
     "metadata": {},
     "output_type": "execute_result"
    }
   ],
   "source": [
    "train_countryside_org = pd.concat([train_org,countrywide_org.sample(n=7000,random_state=42)],ignore_index=True)\n",
    "train_countryside_org.sort_values(by='사고일시',inplace=True)\n",
    "train_countryside_org.head(10)"
   ],
   "metadata": {
    "collapsed": false,
    "ExecuteTime": {
     "end_time": "2023-11-28T05:01:20.388959600Z",
     "start_time": "2023-11-28T05:01:20.244960700Z"
    }
   }
  },
  {
   "cell_type": "code",
   "execution_count": 7,
   "outputs": [
    {
     "data": {
      "text/plain": "Empty DataFrame\nColumns: [ID, 사고일시, 요일, 기상상태, 시군구, 도로형태, 노면상태, 사고유형, 사고유형 - 세부분류, 법규위반, 가해운전자 차종, 가해운전자 성별, 가해운전자 연령, 가해운전자 상해정도, 피해운전자 차종, 피해운전자 성별, 피해운전자 연령, 피해운전자 상해정도, 사망자수, 중상자수, 경상자수, 부상자수, ECLO]\nIndex: []\n\n[0 rows x 23 columns]",
      "text/html": "<div>\n<style scoped>\n    .dataframe tbody tr th:only-of-type {\n        vertical-align: middle;\n    }\n\n    .dataframe tbody tr th {\n        vertical-align: top;\n    }\n\n    .dataframe thead th {\n        text-align: right;\n    }\n</style>\n<table border=\"1\" class=\"dataframe\">\n  <thead>\n    <tr style=\"text-align: right;\">\n      <th></th>\n      <th>ID</th>\n      <th>사고일시</th>\n      <th>요일</th>\n      <th>기상상태</th>\n      <th>시군구</th>\n      <th>도로형태</th>\n      <th>노면상태</th>\n      <th>사고유형</th>\n      <th>사고유형 - 세부분류</th>\n      <th>법규위반</th>\n      <th>...</th>\n      <th>가해운전자 상해정도</th>\n      <th>피해운전자 차종</th>\n      <th>피해운전자 성별</th>\n      <th>피해운전자 연령</th>\n      <th>피해운전자 상해정도</th>\n      <th>사망자수</th>\n      <th>중상자수</th>\n      <th>경상자수</th>\n      <th>부상자수</th>\n      <th>ECLO</th>\n    </tr>\n  </thead>\n  <tbody>\n  </tbody>\n</table>\n<p>0 rows × 23 columns</p>\n</div>"
     },
     "execution_count": 7,
     "metadata": {},
     "output_type": "execute_result"
    }
   ],
   "source": [
    "train_countryside_org.iloc[60000:61000]"
   ],
   "metadata": {
    "collapsed": false,
    "ExecuteTime": {
     "end_time": "2023-11-28T05:01:44.025464100Z",
     "start_time": "2023-11-28T05:01:43.900457Z"
    }
   }
  },
  {
   "cell_type": "code",
   "execution_count": 8,
   "outputs": [
    {
     "data": {
      "text/plain": "(46609, 23)"
     },
     "execution_count": 8,
     "metadata": {},
     "output_type": "execute_result"
    }
   ],
   "source": [
    "train_countryside_org.shape"
   ],
   "metadata": {
    "collapsed": false,
    "ExecuteTime": {
     "end_time": "2023-11-28T05:01:45.340184300Z",
     "start_time": "2023-11-28T05:01:45.298184700Z"
    }
   }
  },
  {
   "cell_type": "code",
   "execution_count": 9,
   "metadata": {
    "ExecuteTime": {
     "end_time": "2023-11-28T05:01:49.418998Z",
     "start_time": "2023-11-28T05:01:48.818750500Z"
    }
   },
   "outputs": [
    {
     "data": {
      "text/plain": "\"columns of train_df : Index(['ID', '요일', '기상상태', '시군구', '도로형태', '노면상태', '사고유형', '사고유형 - 세부분류',\\n       '법규위반', '가해운전자 차종', '가해운전자 성별', '가해운전자 연령', '가해운전자 상해정도', '피해운전자 차종',\\n       '피해운전자 성별', '피해운전자 연령', '피해운전자 상해정도', '사망자수', '중상자수', '경상자수', '부상자수',\\n       'ECLO', '연', '월', '일', '시간'],\\n      dtype='object')\""
     },
     "metadata": {},
     "output_type": "display_data"
    },
    {
     "data": {
      "text/plain": "\"columns of test_df : Index(['ID', '요일', '기상상태', '시군구', '도로형태', '노면상태', '사고유형', '연', '월', '일', '시간'], dtype='object')\""
     },
     "metadata": {},
     "output_type": "display_data"
    }
   ],
   "source": [
    "train_df = train_countryside_org.copy()\n",
    "test_df = test_org.copy()\n",
    "\n",
    "time_pattern = r'(\\d{4})-(\\d{1,2})-(\\d{1,2}) (\\d{1,2})' \n",
    "\n",
    "train_df[['연', '월', '일', '시간']] = train_org['사고일시'].str.extract(time_pattern)\n",
    "train_df[['연', '월', '일', '시간']] = train_df[['연', '월', '일', '시간']].apply(pd.to_numeric) # 추출된 문자열을 수치화해줍니다 \n",
    "train_df = train_df.drop(columns=['사고일시']) # 정보 추출이 완료된 '사고일시' 컬럼은 제거합니다 \n",
    "\n",
    "# 해당 과정을 test_x에 대해서도 반복해줍니다 \n",
    "test_df[['연', '월', '일', '시간']] = test_org['사고일시'].str.extract(time_pattern)\n",
    "test_df[['연', '월', '일', '시간']] = test_df[['연', '월', '일', '시간']].apply(pd.to_numeric)\n",
    "test_df = test_df.drop(columns=['사고일시'])\n",
    "\n",
    "display(f\"columns of train_df : {train_df.columns}\")\n",
    "display(f\"columns of test_df : {test_df.columns}\")"
   ]
  },
  {
   "cell_type": "code",
   "execution_count": 10,
   "metadata": {
    "ExecuteTime": {
     "end_time": "2023-11-28T05:01:50.164907500Z",
     "start_time": "2023-11-28T05:01:49.776998500Z"
    }
   },
   "outputs": [
    {
     "data": {
      "text/plain": "\"columns of train_df : Index(['ID', '요일', '기상상태', '도로형태', '노면상태', '사고유형', '사고유형 - 세부분류', '법규위반',\\n       '가해운전자 차종', '가해운전자 성별', '가해운전자 연령', '가해운전자 상해정도', '피해운전자 차종',\\n       '피해운전자 성별', '피해운전자 연령', '피해운전자 상해정도', '사망자수', '중상자수', '경상자수', '부상자수',\\n       'ECLO', '연', '월', '일', '시간', '도시', '구', '동'],\\n      dtype='object')\""
     },
     "metadata": {},
     "output_type": "display_data"
    },
    {
     "data": {
      "text/plain": "\"columns of test_df : Index(['ID', '요일', '기상상태', '도로형태', '노면상태', '사고유형', '연', '월', '일', '시간', '도시',\\n       '구', '동'],\\n      dtype='object')\""
     },
     "metadata": {},
     "output_type": "display_data"
    }
   ],
   "source": [
    "location_pattern = r'(\\S+) (\\S+) (\\S+)'\n",
    "\n",
    "train_df[['도시', '구', '동']] = train_org['시군구'].str.extract(location_pattern)\n",
    "train_df = train_df.drop(columns=['시군구'])\n",
    "\n",
    "test_df[['도시', '구', '동']] = test_org['시군구'].str.extract(location_pattern)\n",
    "test_df = test_df.drop(columns=['시군구'])\n",
    "\n",
    "display(f\"columns of train_df : {train_df.columns}\")\n",
    "display(f\"columns of test_df : {test_df.columns}\")"
   ]
  },
  {
   "cell_type": "code",
   "execution_count": 11,
   "metadata": {
    "ExecuteTime": {
     "end_time": "2023-11-28T05:01:50.914632700Z",
     "start_time": "2023-11-28T05:01:50.763632Z"
    }
   },
   "outputs": [
    {
     "data": {
      "text/plain": "\"columns of train_df : Index(['ID', '요일', '기상상태', '노면상태', '사고유형', '사고유형 - 세부분류', '법규위반', '가해운전자 차종',\\n       '가해운전자 성별', '가해운전자 연령', '가해운전자 상해정도', '피해운전자 차종', '피해운전자 성별',\\n       '피해운전자 연령', '피해운전자 상해정도', '사망자수', '중상자수', '경상자수', '부상자수', 'ECLO', '연',\\n       '월', '일', '시간', '도시', '구', '동', '도로형태1', '도로형태2'],\\n      dtype='object')\""
     },
     "metadata": {},
     "output_type": "display_data"
    },
    {
     "data": {
      "text/plain": "\"columns of test_df : Index(['ID', '요일', '기상상태', '노면상태', '사고유형', '연', '월', '일', '시간', '도시', '구', '동',\\n       '도로형태1', '도로형태2'],\\n      dtype='object')\""
     },
     "metadata": {},
     "output_type": "display_data"
    }
   ],
   "source": [
    "road_pattern = r'(.+) - (.+)'\n",
    "\n",
    "train_df[['도로형태1', '도로형태2']] = train_org['도로형태'].str.extract(road_pattern)\n",
    "train_df = train_df.drop(columns=['도로형태'])\n",
    "\n",
    "test_df[['도로형태1', '도로형태2']] = test_org['도로형태'].str.extract(road_pattern)\n",
    "test_df = test_df.drop(columns=['도로형태'])\n",
    "\n",
    "display(f\"columns of train_df : {train_df.columns}\")\n",
    "display(f\"columns of test_df : {test_df.columns}\")"
   ]
  },
  {
   "cell_type": "code",
   "execution_count": 12,
   "metadata": {
    "ExecuteTime": {
     "end_time": "2023-11-28T05:01:51.362353Z",
     "start_time": "2023-11-28T05:01:51.296351800Z"
    }
   },
   "outputs": [
    {
     "data": {
      "text/plain": "                                ID   요일 기상상태 노면상태  사고유형 사고유형 - 세부분류     법규위반  \\\n0                   ACCIDENT_00000  화요일   맑음   건조  차대사람  길가장자리구역통행중  안전운전불이행   \n46599  COUNTRYWIDE_ACCIDENT_000006  화요일   맑음   건조  차량단독       공작물충돌  안전운전불이행   \n1                   ACCIDENT_00001  화요일   흐림   건조  차대사람       보도통행중       기타   \n2                   ACCIDENT_00002  화요일   맑음   건조  차대사람       차도통행중  안전운전불이행   \n3                   ACCIDENT_00003  화요일   맑음   건조   차대차          추돌  안전운전불이행   \n\n      가해운전자 차종 가해운전자 성별 가해운전자 연령  ... ECLO       연    월    일   시간     도시    구  \\\n0           승용        여      51세  ...    5  2019.0  1.0  1.0  0.0  대구광역시   중구   \n46599       승용        남      38세  ...    3     NaN  NaN  NaN  NaN    NaN  NaN   \n1           승용        남      39세  ...    3  2019.0  1.0  1.0  0.0  대구광역시  달서구   \n2           승용        남      70세  ...    3  2019.0  1.0  1.0  1.0  대구광역시  수성구   \n3           승용        남      49세  ...    5  2019.0  1.0  1.0  2.0  대구광역시   북구   \n\n         동  도로형태1  도로형태2  \n0      대신동    단일로     기타  \n46599  NaN    NaN    NaN  \n1      감삼동    단일로     기타  \n2      두산동    단일로     기타  \n3      복현동    단일로     기타  \n\n[5 rows x 29 columns]",
      "text/html": "<div>\n<style scoped>\n    .dataframe tbody tr th:only-of-type {\n        vertical-align: middle;\n    }\n\n    .dataframe tbody tr th {\n        vertical-align: top;\n    }\n\n    .dataframe thead th {\n        text-align: right;\n    }\n</style>\n<table border=\"1\" class=\"dataframe\">\n  <thead>\n    <tr style=\"text-align: right;\">\n      <th></th>\n      <th>ID</th>\n      <th>요일</th>\n      <th>기상상태</th>\n      <th>노면상태</th>\n      <th>사고유형</th>\n      <th>사고유형 - 세부분류</th>\n      <th>법규위반</th>\n      <th>가해운전자 차종</th>\n      <th>가해운전자 성별</th>\n      <th>가해운전자 연령</th>\n      <th>...</th>\n      <th>ECLO</th>\n      <th>연</th>\n      <th>월</th>\n      <th>일</th>\n      <th>시간</th>\n      <th>도시</th>\n      <th>구</th>\n      <th>동</th>\n      <th>도로형태1</th>\n      <th>도로형태2</th>\n    </tr>\n  </thead>\n  <tbody>\n    <tr>\n      <th>0</th>\n      <td>ACCIDENT_00000</td>\n      <td>화요일</td>\n      <td>맑음</td>\n      <td>건조</td>\n      <td>차대사람</td>\n      <td>길가장자리구역통행중</td>\n      <td>안전운전불이행</td>\n      <td>승용</td>\n      <td>여</td>\n      <td>51세</td>\n      <td>...</td>\n      <td>5</td>\n      <td>2019.0</td>\n      <td>1.0</td>\n      <td>1.0</td>\n      <td>0.0</td>\n      <td>대구광역시</td>\n      <td>중구</td>\n      <td>대신동</td>\n      <td>단일로</td>\n      <td>기타</td>\n    </tr>\n    <tr>\n      <th>46599</th>\n      <td>COUNTRYWIDE_ACCIDENT_000006</td>\n      <td>화요일</td>\n      <td>맑음</td>\n      <td>건조</td>\n      <td>차량단독</td>\n      <td>공작물충돌</td>\n      <td>안전운전불이행</td>\n      <td>승용</td>\n      <td>남</td>\n      <td>38세</td>\n      <td>...</td>\n      <td>3</td>\n      <td>NaN</td>\n      <td>NaN</td>\n      <td>NaN</td>\n      <td>NaN</td>\n      <td>NaN</td>\n      <td>NaN</td>\n      <td>NaN</td>\n      <td>NaN</td>\n      <td>NaN</td>\n    </tr>\n    <tr>\n      <th>1</th>\n      <td>ACCIDENT_00001</td>\n      <td>화요일</td>\n      <td>흐림</td>\n      <td>건조</td>\n      <td>차대사람</td>\n      <td>보도통행중</td>\n      <td>기타</td>\n      <td>승용</td>\n      <td>남</td>\n      <td>39세</td>\n      <td>...</td>\n      <td>3</td>\n      <td>2019.0</td>\n      <td>1.0</td>\n      <td>1.0</td>\n      <td>0.0</td>\n      <td>대구광역시</td>\n      <td>달서구</td>\n      <td>감삼동</td>\n      <td>단일로</td>\n      <td>기타</td>\n    </tr>\n    <tr>\n      <th>2</th>\n      <td>ACCIDENT_00002</td>\n      <td>화요일</td>\n      <td>맑음</td>\n      <td>건조</td>\n      <td>차대사람</td>\n      <td>차도통행중</td>\n      <td>안전운전불이행</td>\n      <td>승용</td>\n      <td>남</td>\n      <td>70세</td>\n      <td>...</td>\n      <td>3</td>\n      <td>2019.0</td>\n      <td>1.0</td>\n      <td>1.0</td>\n      <td>1.0</td>\n      <td>대구광역시</td>\n      <td>수성구</td>\n      <td>두산동</td>\n      <td>단일로</td>\n      <td>기타</td>\n    </tr>\n    <tr>\n      <th>3</th>\n      <td>ACCIDENT_00003</td>\n      <td>화요일</td>\n      <td>맑음</td>\n      <td>건조</td>\n      <td>차대차</td>\n      <td>추돌</td>\n      <td>안전운전불이행</td>\n      <td>승용</td>\n      <td>남</td>\n      <td>49세</td>\n      <td>...</td>\n      <td>5</td>\n      <td>2019.0</td>\n      <td>1.0</td>\n      <td>1.0</td>\n      <td>2.0</td>\n      <td>대구광역시</td>\n      <td>북구</td>\n      <td>복현동</td>\n      <td>단일로</td>\n      <td>기타</td>\n    </tr>\n  </tbody>\n</table>\n<p>5 rows × 29 columns</p>\n</div>"
     },
     "metadata": {},
     "output_type": "display_data"
    },
    {
     "data": {
      "text/plain": "               ID   요일 기상상태 노면상태  사고유형     연  월  일  시간     도시    구      동  \\\n0  ACCIDENT_39609  토요일   맑음   건조  차대사람  2022  1  1   1  대구광역시  수성구     상동   \n1  ACCIDENT_39610  토요일   맑음   건조  차대사람  2022  1  1   1  대구광역시  수성구    지산동   \n2  ACCIDENT_39611  토요일   맑음   건조   차대차  2022  1  1   4  대구광역시  수성구  수성동2가   \n3  ACCIDENT_39612  토요일   맑음   건조   차대차  2022  1  1   4  대구광역시  수성구    신매동   \n4  ACCIDENT_39613  토요일   맑음   건조   차대차  2022  1  1   6  대구광역시  달서구    감삼동   \n\n  도로형태1 도로형태2  \n0   교차로  교차로안  \n1   단일로    기타  \n2   교차로  교차로안  \n3   단일로    기타  \n4   교차로  교차로안  ",
      "text/html": "<div>\n<style scoped>\n    .dataframe tbody tr th:only-of-type {\n        vertical-align: middle;\n    }\n\n    .dataframe tbody tr th {\n        vertical-align: top;\n    }\n\n    .dataframe thead th {\n        text-align: right;\n    }\n</style>\n<table border=\"1\" class=\"dataframe\">\n  <thead>\n    <tr style=\"text-align: right;\">\n      <th></th>\n      <th>ID</th>\n      <th>요일</th>\n      <th>기상상태</th>\n      <th>노면상태</th>\n      <th>사고유형</th>\n      <th>연</th>\n      <th>월</th>\n      <th>일</th>\n      <th>시간</th>\n      <th>도시</th>\n      <th>구</th>\n      <th>동</th>\n      <th>도로형태1</th>\n      <th>도로형태2</th>\n    </tr>\n  </thead>\n  <tbody>\n    <tr>\n      <th>0</th>\n      <td>ACCIDENT_39609</td>\n      <td>토요일</td>\n      <td>맑음</td>\n      <td>건조</td>\n      <td>차대사람</td>\n      <td>2022</td>\n      <td>1</td>\n      <td>1</td>\n      <td>1</td>\n      <td>대구광역시</td>\n      <td>수성구</td>\n      <td>상동</td>\n      <td>교차로</td>\n      <td>교차로안</td>\n    </tr>\n    <tr>\n      <th>1</th>\n      <td>ACCIDENT_39610</td>\n      <td>토요일</td>\n      <td>맑음</td>\n      <td>건조</td>\n      <td>차대사람</td>\n      <td>2022</td>\n      <td>1</td>\n      <td>1</td>\n      <td>1</td>\n      <td>대구광역시</td>\n      <td>수성구</td>\n      <td>지산동</td>\n      <td>단일로</td>\n      <td>기타</td>\n    </tr>\n    <tr>\n      <th>2</th>\n      <td>ACCIDENT_39611</td>\n      <td>토요일</td>\n      <td>맑음</td>\n      <td>건조</td>\n      <td>차대차</td>\n      <td>2022</td>\n      <td>1</td>\n      <td>1</td>\n      <td>4</td>\n      <td>대구광역시</td>\n      <td>수성구</td>\n      <td>수성동2가</td>\n      <td>교차로</td>\n      <td>교차로안</td>\n    </tr>\n    <tr>\n      <th>3</th>\n      <td>ACCIDENT_39612</td>\n      <td>토요일</td>\n      <td>맑음</td>\n      <td>건조</td>\n      <td>차대차</td>\n      <td>2022</td>\n      <td>1</td>\n      <td>1</td>\n      <td>4</td>\n      <td>대구광역시</td>\n      <td>수성구</td>\n      <td>신매동</td>\n      <td>단일로</td>\n      <td>기타</td>\n    </tr>\n    <tr>\n      <th>4</th>\n      <td>ACCIDENT_39613</td>\n      <td>토요일</td>\n      <td>맑음</td>\n      <td>건조</td>\n      <td>차대차</td>\n      <td>2022</td>\n      <td>1</td>\n      <td>1</td>\n      <td>6</td>\n      <td>대구광역시</td>\n      <td>달서구</td>\n      <td>감삼동</td>\n      <td>교차로</td>\n      <td>교차로안</td>\n    </tr>\n  </tbody>\n</table>\n</div>"
     },
     "metadata": {},
     "output_type": "display_data"
    }
   ],
   "source": [
    "display(train_df.head())\n",
    "display(test_df.head())"
   ]
  },
  {
   "cell_type": "code",
   "execution_count": 13,
   "metadata": {
    "ExecuteTime": {
     "end_time": "2023-11-28T05:01:52.550041600Z",
     "start_time": "2023-11-28T05:01:51.972039400Z"
    }
   },
   "outputs": [
    {
     "data": {
      "text/plain": "    요일    구      ECLO\n0  금요일   남구  4.453333\n1  금요일  달서구  4.582951\n2  금요일  달성군  4.967391\n3  금요일   동구  4.804213\n4  금요일   북구  4.502361",
      "text/html": "<div>\n<style scoped>\n    .dataframe tbody tr th:only-of-type {\n        vertical-align: middle;\n    }\n\n    .dataframe tbody tr th {\n        vertical-align: top;\n    }\n\n    .dataframe thead th {\n        text-align: right;\n    }\n</style>\n<table border=\"1\" class=\"dataframe\">\n  <thead>\n    <tr style=\"text-align: right;\">\n      <th></th>\n      <th>요일</th>\n      <th>구</th>\n      <th>ECLO</th>\n    </tr>\n  </thead>\n  <tbody>\n    <tr>\n      <th>0</th>\n      <td>금요일</td>\n      <td>남구</td>\n      <td>4.453333</td>\n    </tr>\n    <tr>\n      <th>1</th>\n      <td>금요일</td>\n      <td>달서구</td>\n      <td>4.582951</td>\n    </tr>\n    <tr>\n      <th>2</th>\n      <td>금요일</td>\n      <td>달성군</td>\n      <td>4.967391</td>\n    </tr>\n    <tr>\n      <th>3</th>\n      <td>금요일</td>\n      <td>동구</td>\n      <td>4.804213</td>\n    </tr>\n    <tr>\n      <th>4</th>\n      <td>금요일</td>\n      <td>북구</td>\n      <td>4.502361</td>\n    </tr>\n  </tbody>\n</table>\n</div>"
     },
     "metadata": {},
     "output_type": "display_data"
    },
    {
     "data": {
      "text/plain": "array(['남구', '달서구', '달성군', '동구', '북구', '서구', '수성구', '중구'], dtype=object)"
     },
     "metadata": {},
     "output_type": "display_data"
    },
    {
     "data": {
      "text/plain": "<Figure size 1200x400 with 1 Axes>",
      "image/png": "[encoded data removed]"
     },
     "metadata": {},
     "output_type": "display_data"
    }
   ],
   "source": [
    "weekday_gu_stats = train_df.groupby(['요일','구'])['ECLO'].mean().reset_index()\n",
    "display(weekday_gu_stats.head())\n",
    "display(weekday_gu_stats['구'].unique())\n",
    "\n",
    "import matplotlib.pyplot as plt\n",
    "plt.figure(figsize=(12, 4))\n",
    "\n",
    "for gu_name in weekday_gu_stats['구'].unique():\n",
    "    subset = weekday_gu_stats[weekday_gu_stats['구'] == gu_name]\n",
    "    plt.plot(subset['요일'], subset['ECLO'], marker='o', label=gu_name)\n",
    "\n",
    "plt.xticks(ticks=range(7), labels=['월요일', '화요일', '수요일', '목요일', '금요일', '토요일', '월요일'])\n",
    "plt.xlabel('요일')\n",
    "plt.ylabel('사고 위험도')\n",
    "plt.title('대구시 행정 구역에 따른 요일별 사고 위험도')\n",
    "plt.legend(title='Building Type')\n",
    "plt.grid(True)\n",
    "plt.show()"
   ]
  },
  {
   "cell_type": "code",
   "execution_count": 14,
   "metadata": {
    "ExecuteTime": {
     "end_time": "2023-11-28T05:01:53.995723Z",
     "start_time": "2023-11-28T05:01:53.918725100Z"
    }
   },
   "outputs": [],
   "source": [
    "test_x = test_df.drop(columns=['ID']).copy()\n",
    "train_x = train_df[test_x.columns].copy()\n",
    "train_y = train_df['ECLO'].copy()"
   ]
  },
  {
   "cell_type": "code",
   "execution_count": 15,
   "metadata": {
    "ExecuteTime": {
     "end_time": "2023-11-28T05:01:55.005153300Z",
     "start_time": "2023-11-28T05:01:54.984152300Z"
    }
   },
   "outputs": [],
   "source": [
    "# from sklearn.preprocessing import LabelEncoder\n",
    "\n",
    "# categorical_features = list(train_x.dtypes[train_x.dtypes == \"object\"].index)\n",
    "# # 추출된 문자열 변수 확인\n",
    "# display(categorical_features)\n",
    "\n",
    "# for i in categorical_features:\n",
    "#     le = LabelEncoder()\n",
    "#     le=le.fit(train_x[i]) \n",
    "#     train_x[i]=le.transform(train_x[i])\n",
    "    \n",
    "#     for case in np.unique(test_x[i]):\n",
    "#         if case not in le.classes_: \n",
    "#             le.classes_ = np.append(le.classes_, case) \n",
    "#     test_x[i]=le.transform(test_x[i])\n",
    "    \n",
    "# display(train_x.head())\n",
    "# display(test_x.head())"
   ]
  },
  {
   "cell_type": "code",
   "execution_count": 16,
   "metadata": {
    "ExecuteTime": {
     "end_time": "2023-11-28T05:01:57.351797400Z",
     "start_time": "2023-11-28T05:01:55.402733500Z"
    }
   },
   "outputs": [
    {
     "name": "stderr",
     "output_type": "stream",
     "text": [
      "C:\\Users\\piai\\anaconda3\\envs\\pycaret_env\\lib\\site-packages\\sklearn\\preprocessing\\_encoders.py:868: FutureWarning: `sparse` was renamed to `sparse_output` in version 1.2 and will be removed in 1.4. `sparse_output` is ignored unless you leave `sparse` to its default value.\n",
      "  warnings.warn(\n"
     ]
    }
   ],
   "source": [
    "categorical_features = list(train_x.dtypes[train_x.dtypes == \"object\"].index)\n",
    "\n",
    "from sklearn.preprocessing import OneHotEncoder\n",
    "encoder = OneHotEncoder(sparse=False, drop='first')  # drop='first'는 더미 변수 하나를 제거함\n",
    "train_x_encoded = encoder.fit_transform(train_x[categorical_features])\n",
    "test_x_encoded = encoder.transform(test_x[categorical_features])\n",
    "\n",
    "# 범주형 변수를 더미 변수로 변환합니다.\n",
    "train_x_encoded = encoder.transform(train_x[categorical_features])\n",
    "test_x_encoded = encoder.transform(test_x[categorical_features])\n",
    "\n",
    "# 더미 변수를 데이터프레임으로 만듭니다.\n",
    "train_x_encoded_df = pd.DataFrame(train_x_encoded, columns=[f'encoded_{i}' for i in range(train_x_encoded.shape[1])])\n",
    "test_x_encoded_df = pd.DataFrame(test_x_encoded, columns=[f'encoded_{i}' for i in range(test_x_encoded.shape[1])])\n",
    "\n",
    "# 기존 train_x와 test_x 데이터프레임에서 범주형 열을 삭제합니다.\n",
    "train_x = train_x.drop(columns=categorical_features)\n",
    "test_x = test_x.drop(columns=categorical_features)\n",
    "\n",
    "# 더미 변수를 기존 train_x와 test_x 데이터프레임에 추가합니다.\n",
    "train_x = pd.concat([train_x, train_x_encoded_df], axis=1)\n",
    "test_x = pd.concat([test_x, test_x_encoded_df], axis=1)\n"
   ]
  },
  {
   "cell_type": "code",
   "execution_count": 17,
   "metadata": {
    "ExecuteTime": {
     "end_time": "2023-11-28T05:01:57.688795300Z",
     "start_time": "2023-11-28T05:01:57.347797900Z"
    }
   },
   "outputs": [],
   "source": [
    "train_x.fillna(0, inplace=True)\n",
    "test_x.fillna(0, inplace=True)"
   ]
  },
  {
   "cell_type": "code",
   "execution_count": null,
   "metadata": {},
   "outputs": [],
   "source": [
    "from sklearn.tree import DecisionTreeRegressor\n",
    "dt = DecisionTreeRegressor() \n",
    "dt.fit(train_x, train_y)\n",
    "\n",
    "dt_pred = dt.predict(test_x)\n",
    "dt_pred"
   ]
  },
  {
   "cell_type": "code",
   "execution_count": null,
   "metadata": {},
   "outputs": [],
   "source": [
    "from sklearn.ensemble import RandomForestRegressor\n",
    "rf = RandomForestRegressor()\n",
    "rf.fit(train_x,train_y)\n",
    "\n",
    "rf_pred = rf.predict(test_x)\n",
    "rf_pred"
   ]
  },
  {
   "cell_type": "code",
   "execution_count": null,
   "metadata": {},
   "outputs": [],
   "source": [
    "from xgboost import XGBRegressor\n",
    "\n",
    "xgb = XGBRegressor()\n",
    "xgb.fit(train_x, train_y)\n",
    "\n",
    "xgb_pred = xgb.predict(test_x)\n",
    "xgb_pred"
   ]
  },
  {
   "cell_type": "code",
   "execution_count": null,
   "metadata": {},
   "outputs": [],
   "source": [
    "from sklearn.ensemble import ExtraTreesRegressor\n",
    "\n",
    "etr = ExtraTreesRegressor()\n",
    "etr.fit(train_x, train_y)\n",
    "\n",
    "etr_pred = etr.predict(test_x)\n",
    "etr_pred"
   ]
  },
  {
   "cell_type": "code",
   "execution_count": null,
   "metadata": {},
   "outputs": [],
   "source": [
    "from sklearn.ensemble import GradientBoostingRegressor\n",
    "gb = GradientBoostingRegressor()\n",
    "gb.fit(train_x,train_y)\n",
    "\n",
    "gb_pred = gb.predict(test_x)\n",
    "gb_pred"
   ]
  },
  {
   "cell_type": "code",
   "execution_count": null,
   "metadata": {},
   "outputs": [],
   "source": [
    "from catboost import CatBoostRegressor\n",
    "cat = CatBoostRegressor()\n",
    "cat.fit(train_x,train_y)\n",
    "\n",
    "cat_pred = cat.predict(test_x)\n",
    "cat_pred"
   ]
  },
  {
   "cell_type": "code",
   "execution_count": null,
   "metadata": {},
   "outputs": [],
   "source": []
  },
  {
   "cell_type": "code",
   "execution_count": 18,
   "metadata": {
    "ExecuteTime": {
     "end_time": "2023-11-28T05:02:01.712891600Z",
     "start_time": "2023-11-28T05:02:01.650895800Z"
    }
   },
   "outputs": [],
   "source": [
    "train = pd.concat([train_x,train_y], axis=1)"
   ]
  },
  {
   "cell_type": "code",
   "execution_count": 19,
   "metadata": {
    "ExecuteTime": {
     "end_time": "2023-11-28T05:02:02.368834200Z",
     "start_time": "2023-11-28T05:02:02.257890700Z"
    }
   },
   "outputs": [
    {
     "data": {
      "text/plain": "            연    월    일   시간  encoded_0  encoded_1  encoded_2  encoded_3  \\\n0      2019.0  1.0  1.0  0.0        0.0        0.0        0.0        0.0   \n46599     0.0  0.0  0.0  0.0        0.0        0.0        0.0        0.0   \n1      2019.0  1.0  1.0  0.0        0.0        0.0        0.0        0.0   \n2      2019.0  1.0  1.0  1.0        0.0        0.0        0.0        0.0   \n3      2019.0  1.0  1.0  2.0        0.0        0.0        0.0        0.0   \n\n       encoded_4  encoded_5  ...  encoded_230  encoded_231  encoded_232  \\\n0            0.0        1.0  ...          0.0          0.0          0.0   \n46599        0.0        0.0  ...          0.0          0.0          0.0   \n1            0.0        1.0  ...          0.0          0.0          0.0   \n2            0.0        1.0  ...          0.0          0.0          0.0   \n3            0.0        1.0  ...          0.0          0.0          0.0   \n\n       encoded_233  encoded_234  encoded_235  encoded_236  encoded_237  \\\n0              1.0          0.0          0.0          0.0          0.0   \n46599          0.0          0.0          0.0          0.0          0.0   \n1              0.0          0.0          0.0          0.0          0.0   \n2              1.0          0.0          0.0          0.0          0.0   \n3              1.0          0.0          0.0          0.0          0.0   \n\n       encoded_238  ECLO  \n0              0.0     5  \n46599          1.0     3  \n1              1.0     3  \n2              0.0     3  \n3              0.0     5  \n\n[5 rows x 244 columns]",
      "text/html": "<div>\n<style scoped>\n    .dataframe tbody tr th:only-of-type {\n        vertical-align: middle;\n    }\n\n    .dataframe tbody tr th {\n        vertical-align: top;\n    }\n\n    .dataframe thead th {\n        text-align: right;\n    }\n</style>\n<table border=\"1\" class=\"dataframe\">\n  <thead>\n    <tr style=\"text-align: right;\">\n      <th></th>\n      <th>연</th>\n      <th>월</th>\n      <th>일</th>\n      <th>시간</th>\n      <th>encoded_0</th>\n      <th>encoded_1</th>\n      <th>encoded_2</th>\n      <th>encoded_3</th>\n      <th>encoded_4</th>\n      <th>encoded_5</th>\n      <th>...</th>\n      <th>encoded_230</th>\n      <th>encoded_231</th>\n      <th>encoded_232</th>\n      <th>encoded_233</th>\n      <th>encoded_234</th>\n      <th>encoded_235</th>\n      <th>encoded_236</th>\n      <th>encoded_237</th>\n      <th>encoded_238</th>\n      <th>ECLO</th>\n    </tr>\n  </thead>\n  <tbody>\n    <tr>\n      <th>0</th>\n      <td>2019.0</td>\n      <td>1.0</td>\n      <td>1.0</td>\n      <td>0.0</td>\n      <td>0.0</td>\n      <td>0.0</td>\n      <td>0.0</td>\n      <td>0.0</td>\n      <td>0.0</td>\n      <td>1.0</td>\n      <td>...</td>\n      <td>0.0</td>\n      <td>0.0</td>\n      <td>0.0</td>\n      <td>1.0</td>\n      <td>0.0</td>\n      <td>0.0</td>\n      <td>0.0</td>\n      <td>0.0</td>\n      <td>0.0</td>\n      <td>5</td>\n    </tr>\n    <tr>\n      <th>46599</th>\n      <td>0.0</td>\n      <td>0.0</td>\n      <td>0.0</td>\n      <td>0.0</td>\n      <td>0.0</td>\n      <td>0.0</td>\n      <td>0.0</td>\n      <td>0.0</td>\n      <td>0.0</td>\n      <td>0.0</td>\n      <td>...</td>\n      <td>0.0</td>\n      <td>0.0</td>\n      <td>0.0</td>\n      <td>0.0</td>\n      <td>0.0</td>\n      <td>0.0</td>\n      <td>0.0</td>\n      <td>0.0</td>\n      <td>1.0</td>\n      <td>3</td>\n    </tr>\n    <tr>\n      <th>1</th>\n      <td>2019.0</td>\n      <td>1.0</td>\n      <td>1.0</td>\n      <td>0.0</td>\n      <td>0.0</td>\n      <td>0.0</td>\n      <td>0.0</td>\n      <td>0.0</td>\n      <td>0.0</td>\n      <td>1.0</td>\n      <td>...</td>\n      <td>0.0</td>\n      <td>0.0</td>\n      <td>0.0</td>\n      <td>0.0</td>\n      <td>0.0</td>\n      <td>0.0</td>\n      <td>0.0</td>\n      <td>0.0</td>\n      <td>1.0</td>\n      <td>3</td>\n    </tr>\n    <tr>\n      <th>2</th>\n      <td>2019.0</td>\n      <td>1.0</td>\n      <td>1.0</td>\n      <td>1.0</td>\n      <td>0.0</td>\n      <td>0.0</td>\n      <td>0.0</td>\n      <td>0.0</td>\n      <td>0.0</td>\n      <td>1.0</td>\n      <td>...</td>\n      <td>0.0</td>\n      <td>0.0</td>\n      <td>0.0</td>\n      <td>1.0</td>\n      <td>0.0</td>\n      <td>0.0</td>\n      <td>0.0</td>\n      <td>0.0</td>\n      <td>0.0</td>\n      <td>3</td>\n    </tr>\n    <tr>\n      <th>3</th>\n      <td>2019.0</td>\n      <td>1.0</td>\n      <td>1.0</td>\n      <td>2.0</td>\n      <td>0.0</td>\n      <td>0.0</td>\n      <td>0.0</td>\n      <td>0.0</td>\n      <td>0.0</td>\n      <td>1.0</td>\n      <td>...</td>\n      <td>0.0</td>\n      <td>0.0</td>\n      <td>0.0</td>\n      <td>1.0</td>\n      <td>0.0</td>\n      <td>0.0</td>\n      <td>0.0</td>\n      <td>0.0</td>\n      <td>0.0</td>\n      <td>5</td>\n    </tr>\n  </tbody>\n</table>\n<p>5 rows × 244 columns</p>\n</div>"
     },
     "execution_count": 19,
     "metadata": {},
     "output_type": "execute_result"
    }
   ],
   "source": [
    "train.head()"
   ]
  },
  {
   "cell_type": "code",
   "execution_count": 20,
   "metadata": {
    "ExecuteTime": {
     "end_time": "2023-11-28T05:02:02.370836600Z",
     "start_time": "2023-11-28T05:02:02.315838400Z"
    }
   },
   "outputs": [
    {
     "data": {
      "text/plain": "(46609, 244)"
     },
     "execution_count": 20,
     "metadata": {},
     "output_type": "execute_result"
    }
   ],
   "source": [
    "train.shape"
   ]
  },
  {
   "cell_type": "code",
   "execution_count": null,
   "outputs": [],
   "source": [],
   "metadata": {
    "collapsed": false
   }
  },
  {
   "cell_type": "code",
   "execution_count": null,
   "outputs": [],
   "source": [],
   "metadata": {
    "collapsed": false
   }
  },
  {
   "cell_type": "code",
   "execution_count": null,
   "outputs": [],
   "source": [],
   "metadata": {
    "collapsed": false
   }
  },
  {
   "cell_type": "code",
   "execution_count": null,
   "outputs": [],
   "source": [],
   "metadata": {
    "collapsed": false
   }
  },
  {
   "cell_type": "code",
   "execution_count": 22,
   "metadata": {
    "ExecuteTime": {
     "end_time": "2023-11-28T05:21:07.909531300Z",
     "start_time": "2023-11-28T05:02:32.637422Z"
    }
   },
   "outputs": [
    {
     "data": {
      "text/plain": "<IPython.core.display.HTML object>",
      "text/html": ""
     },
     "metadata": {},
     "output_type": "display_data"
    },
    {
     "data": {
      "text/plain": "                                                                    \n                                                                    \nInitiated  . . . . . . . . . . . . . . . . . .              14:02:39\nStatus     . . . . . . . . . . . . . . . . . .  Loading Dependencies\nEstimator  . . . . . . . . . . . . . . . . . .     Compiling Library",
      "text/html": "<div>\n<style scoped>\n    .dataframe tbody tr th:only-of-type {\n        vertical-align: middle;\n    }\n\n    .dataframe tbody tr th {\n        vertical-align: top;\n    }\n\n    .dataframe thead th {\n        text-align: right;\n    }\n</style>\n<table border=\"1\" class=\"dataframe\">\n  <thead>\n    <tr style=\"text-align: right;\">\n      <th></th>\n      <th></th>\n      <th></th>\n    </tr>\n    <tr>\n      <th></th>\n      <th></th>\n      <th></th>\n    </tr>\n  </thead>\n  <tbody>\n    <tr>\n      <th>Initiated</th>\n      <td>. . . . . . . . . . . . . . . . . .</td>\n      <td>14:02:39</td>\n    </tr>\n    <tr>\n      <th>Status</th>\n      <td>. . . . . . . . . . . . . . . . . .</td>\n      <td>Loading Dependencies</td>\n    </tr>\n    <tr>\n      <th>Estimator</th>\n      <td>. . . . . . . . . . . . . . . . . .</td>\n      <td>Compiling Library</td>\n    </tr>\n  </tbody>\n</table>\n</div>"
     },
     "metadata": {},
     "output_type": "display_data"
    },
    {
     "data": {
      "text/plain": "<IPython.core.display.HTML object>",
      "text/html": ""
     },
     "metadata": {},
     "output_type": "display_data"
    },
    {
     "data": {
      "text/plain": "Processing:   0%|          | 0/89 [00:00<?, ?it/s]",
      "application/vnd.jupyter.widget-view+json": {
       "version_major": 2,
       "version_minor": 0,
       "model_id": "61f7a389c22742bea93c339e181cc5fd"
      }
     },
     "metadata": {},
     "output_type": "display_data"
    }
   ],
   "source": [
    "from pycaret.regression import *\n",
    "setup_rgs = setup(data=train, target='ECLO',session_id=10)\n",
    "top5 = compare_models(sort='RMSLE', n_select=5)"
   ]
  },
  {
   "cell_type": "code",
   "execution_count": null,
   "outputs": [],
   "source": [
    "train_frags = list()\n",
    "frg_size = 30000\n",
    "for i in range(0,len(train), frg_size):\n",
    "    if i + frg_size > len(train):\n",
    "        train_frags.append(train[i:])\n",
    "    else:\n",
    "        train_frags.append(train[i:i+frg_size])\n"
   ],
   "metadata": {
    "collapsed": false
   }
  },
  {
   "cell_type": "code",
   "execution_count": null,
   "outputs": [],
   "source": [
    "setups = list()\n",
    "\n",
    "for i in range(len(train_frags)):\n",
    "    # setup 함수 호출 (새로운 설정으로 초기화)\n",
    "    setup_result = setup(train_frags[i], target='ECLO', session_id=10)\n",
    "    \n",
    "    \n",
    "    model = compare_models(sort='RMSLE',n_select=1)\n",
    "    \n",
    "    # setups 리스트에 (setup 결과, 모델) 튜플 추가\n",
    "    setups.append((setup_result, model))\n",
    "\n",
    "# compare_models 함수를 사용하여 결과 비교\n",
    "top5 = compare_models([x[0] for x in setups], sort='RMSLE', n_select=5)"
   ],
   "metadata": {
    "collapsed": false
   }
  },
  {
   "cell_type": "code",
   "execution_count": null,
   "outputs": [],
   "source": [
    "setups"
   ],
   "metadata": {
    "collapsed": false
   }
  },
  {
   "cell_type": "code",
   "execution_count": null,
   "outputs": [],
   "source": [
    "\n",
    "# compare_models 함수를 사용하여 결과 비교\n",
    "top5 = compare_models([x[1] for x in setups], sort='RMSLE', n_select=5)"
   ],
   "metadata": {
    "collapsed": false
   }
  },
  {
   "cell_type": "code",
   "execution_count": 23,
   "outputs": [
    {
     "data": {
      "text/plain": "[HuberRegressor(),\n Lasso(random_state=10),\n ElasticNet(random_state=10),\n LassoLars(random_state=10),\n BayesianRidge()]"
     },
     "execution_count": 23,
     "metadata": {},
     "output_type": "execute_result"
    }
   ],
   "source": [
    "top5"
   ],
   "metadata": {
    "collapsed": false,
    "ExecuteTime": {
     "end_time": "2023-11-28T05:21:23.830730900Z",
     "start_time": "2023-11-28T05:21:23.786614700Z"
    }
   }
  },
  {
   "cell_type": "code",
   "execution_count": null,
   "outputs": [],
   "source": [],
   "metadata": {
    "collapsed": false
   }
  },
  {
   "cell_type": "code",
   "execution_count": null,
   "outputs": [],
   "source": [],
   "metadata": {
    "collapsed": false
   }
  },
  {
   "cell_type": "code",
   "execution_count": null,
   "metadata": {},
   "outputs": [],
   "source": [
    "# # 모델 생성\n",
    "# m1 = create_model('huber')\n",
    "# m2 = create_model('gbr')\n",
    "# m3 = create_model('br')\n",
    "# m4 = create_model('omp')\n",
    "# m5 = create_model('ridge')\n",
    "# \n",
    "# # 모델 튜닝\n",
    "# model1 = tune_model(m1)\n",
    "# model2 = tune_model(m2)\n",
    "# model3 = tune_model(m3)\n",
    "# model4 = tune_model(m4)\n",
    "# model5 = tune_model(m5)\n",
    "# \n",
    "# # 모델 블렌딩\n",
    "# tuned = [model1, model2, model3, model4, model5]\n",
    "# blender = blend_models(tuned)\n",
    "# \n",
    "# pred = predict_model(blender,data=test_x)\n",
    "# pred\n",
    "# \n"
   ]
  },
  {
   "cell_type": "code",
   "execution_count": 24,
   "outputs": [
    {
     "data": {
      "text/plain": "                                                                    \n                                                                    \nInitiated  . . . . . . . . . . . . . . . . . .              14:21:30\nStatus     . . . . . . . . . . . . . . . . . .  Loading Dependencies\nEstimator  . . . . . . . . . . . . . . . . . .     Compiling Library",
      "text/html": "<div>\n<style scoped>\n    .dataframe tbody tr th:only-of-type {\n        vertical-align: middle;\n    }\n\n    .dataframe tbody tr th {\n        vertical-align: top;\n    }\n\n    .dataframe thead th {\n        text-align: right;\n    }\n</style>\n<table border=\"1\" class=\"dataframe\">\n  <thead>\n    <tr style=\"text-align: right;\">\n      <th></th>\n      <th></th>\n      <th></th>\n    </tr>\n    <tr>\n      <th></th>\n      <th></th>\n      <th></th>\n    </tr>\n  </thead>\n  <tbody>\n    <tr>\n      <th>Initiated</th>\n      <td>. . . . . . . . . . . . . . . . . .</td>\n      <td>14:21:30</td>\n    </tr>\n    <tr>\n      <th>Status</th>\n      <td>. . . . . . . . . . . . . . . . . .</td>\n      <td>Loading Dependencies</td>\n    </tr>\n    <tr>\n      <th>Estimator</th>\n      <td>. . . . . . . . . . . . . . . . . .</td>\n      <td>Compiling Library</td>\n    </tr>\n  </tbody>\n</table>\n</div>"
     },
     "metadata": {},
     "output_type": "display_data"
    },
    {
     "data": {
      "text/plain": "<IPython.core.display.HTML object>",
      "text/html": ""
     },
     "metadata": {},
     "output_type": "display_data"
    },
    {
     "data": {
      "text/plain": "Processing:   0%|          | 0/7 [00:00<?, ?it/s]",
      "application/vnd.jupyter.widget-view+json": {
       "version_major": 2,
       "version_minor": 0,
       "model_id": "62180cccca434a658bc910dc7ad29d5b"
      }
     },
     "metadata": {},
     "output_type": "display_data"
    },
    {
     "name": "stdout",
     "output_type": "stream",
     "text": [
      "Fitting 10 folds for each of 10 candidates, totalling 100 fits\n"
     ]
    },
    {
     "data": {
      "text/plain": "                                                                    \n                                                                    \nInitiated  . . . . . . . . . . . . . . . . . .              14:29:41\nStatus     . . . . . . . . . . . . . . . . . .  Loading Dependencies\nEstimator  . . . . . . . . . . . . . . . . . .     Compiling Library",
      "text/html": "<div>\n<style scoped>\n    .dataframe tbody tr th:only-of-type {\n        vertical-align: middle;\n    }\n\n    .dataframe tbody tr th {\n        vertical-align: top;\n    }\n\n    .dataframe thead th {\n        text-align: right;\n    }\n</style>\n<table border=\"1\" class=\"dataframe\">\n  <thead>\n    <tr style=\"text-align: right;\">\n      <th></th>\n      <th></th>\n      <th></th>\n    </tr>\n    <tr>\n      <th></th>\n      <th></th>\n      <th></th>\n    </tr>\n  </thead>\n  <tbody>\n    <tr>\n      <th>Initiated</th>\n      <td>. . . . . . . . . . . . . . . . . .</td>\n      <td>14:29:41</td>\n    </tr>\n    <tr>\n      <th>Status</th>\n      <td>. . . . . . . . . . . . . . . . . .</td>\n      <td>Loading Dependencies</td>\n    </tr>\n    <tr>\n      <th>Estimator</th>\n      <td>. . . . . . . . . . . . . . . . . .</td>\n      <td>Compiling Library</td>\n    </tr>\n  </tbody>\n</table>\n</div>"
     },
     "metadata": {},
     "output_type": "display_data"
    },
    {
     "data": {
      "text/plain": "<IPython.core.display.HTML object>",
      "text/html": ""
     },
     "metadata": {},
     "output_type": "display_data"
    },
    {
     "data": {
      "text/plain": "Processing:   0%|          | 0/7 [00:00<?, ?it/s]",
      "application/vnd.jupyter.widget-view+json": {
       "version_major": 2,
       "version_minor": 0,
       "model_id": "04d047db3189400bad0d4765c19b63a7"
      }
     },
     "metadata": {},
     "output_type": "display_data"
    },
    {
     "name": "stdout",
     "output_type": "stream",
     "text": [
      "Fitting 10 folds for each of 10 candidates, totalling 100 fits\n",
      "Original model was better than the tuned model, hence it will be returned. NOTE: The display metrics are for the tuned model (not the original one).\n"
     ]
    },
    {
     "data": {
      "text/plain": "                                                                    \n                                                                    \nInitiated  . . . . . . . . . . . . . . . . . .              14:29:53\nStatus     . . . . . . . . . . . . . . . . . .  Loading Dependencies\nEstimator  . . . . . . . . . . . . . . . . . .     Compiling Library",
      "text/html": "<div>\n<style scoped>\n    .dataframe tbody tr th:only-of-type {\n        vertical-align: middle;\n    }\n\n    .dataframe tbody tr th {\n        vertical-align: top;\n    }\n\n    .dataframe thead th {\n        text-align: right;\n    }\n</style>\n<table border=\"1\" class=\"dataframe\">\n  <thead>\n    <tr style=\"text-align: right;\">\n      <th></th>\n      <th></th>\n      <th></th>\n    </tr>\n    <tr>\n      <th></th>\n      <th></th>\n      <th></th>\n    </tr>\n  </thead>\n  <tbody>\n    <tr>\n      <th>Initiated</th>\n      <td>. . . . . . . . . . . . . . . . . .</td>\n      <td>14:29:53</td>\n    </tr>\n    <tr>\n      <th>Status</th>\n      <td>. . . . . . . . . . . . . . . . . .</td>\n      <td>Loading Dependencies</td>\n    </tr>\n    <tr>\n      <th>Estimator</th>\n      <td>. . . . . . . . . . . . . . . . . .</td>\n      <td>Compiling Library</td>\n    </tr>\n  </tbody>\n</table>\n</div>"
     },
     "metadata": {},
     "output_type": "display_data"
    },
    {
     "data": {
      "text/plain": "<IPython.core.display.HTML object>",
      "text/html": ""
     },
     "metadata": {},
     "output_type": "display_data"
    },
    {
     "data": {
      "text/plain": "Processing:   0%|          | 0/7 [00:00<?, ?it/s]",
      "application/vnd.jupyter.widget-view+json": {
       "version_major": 2,
       "version_minor": 0,
       "model_id": "72d2f1202f3e4335b22a7c0383e2271c"
      }
     },
     "metadata": {},
     "output_type": "display_data"
    },
    {
     "name": "stdout",
     "output_type": "stream",
     "text": [
      "Fitting 10 folds for each of 10 candidates, totalling 100 fits\n"
     ]
    },
    {
     "data": {
      "text/plain": "                                                                    \n                                                                    \nInitiated  . . . . . . . . . . . . . . . . . .              14:30:06\nStatus     . . . . . . . . . . . . . . . . . .  Loading Dependencies\nEstimator  . . . . . . . . . . . . . . . . . .     Compiling Library",
      "text/html": "<div>\n<style scoped>\n    .dataframe tbody tr th:only-of-type {\n        vertical-align: middle;\n    }\n\n    .dataframe tbody tr th {\n        vertical-align: top;\n    }\n\n    .dataframe thead th {\n        text-align: right;\n    }\n</style>\n<table border=\"1\" class=\"dataframe\">\n  <thead>\n    <tr style=\"text-align: right;\">\n      <th></th>\n      <th></th>\n      <th></th>\n    </tr>\n    <tr>\n      <th></th>\n      <th></th>\n      <th></th>\n    </tr>\n  </thead>\n  <tbody>\n    <tr>\n      <th>Initiated</th>\n      <td>. . . . . . . . . . . . . . . . . .</td>\n      <td>14:30:06</td>\n    </tr>\n    <tr>\n      <th>Status</th>\n      <td>. . . . . . . . . . . . . . . . . .</td>\n      <td>Loading Dependencies</td>\n    </tr>\n    <tr>\n      <th>Estimator</th>\n      <td>. . . . . . . . . . . . . . . . . .</td>\n      <td>Compiling Library</td>\n    </tr>\n  </tbody>\n</table>\n</div>"
     },
     "metadata": {},
     "output_type": "display_data"
    },
    {
     "data": {
      "text/plain": "<IPython.core.display.HTML object>",
      "text/html": ""
     },
     "metadata": {},
     "output_type": "display_data"
    },
    {
     "data": {
      "text/plain": "Processing:   0%|          | 0/7 [00:00<?, ?it/s]",
      "application/vnd.jupyter.widget-view+json": {
       "version_major": 2,
       "version_minor": 0,
       "model_id": "1afc1a0484b546679634ab7b4ab786c8"
      }
     },
     "metadata": {},
     "output_type": "display_data"
    },
    {
     "name": "stdout",
     "output_type": "stream",
     "text": [
      "Fitting 10 folds for each of 10 candidates, totalling 100 fits\n"
     ]
    },
    {
     "data": {
      "text/plain": "                                                                    \n                                                                    \nInitiated  . . . . . . . . . . . . . . . . . .              14:30:21\nStatus     . . . . . . . . . . . . . . . . . .  Loading Dependencies\nEstimator  . . . . . . . . . . . . . . . . . .     Compiling Library",
      "text/html": "<div>\n<style scoped>\n    .dataframe tbody tr th:only-of-type {\n        vertical-align: middle;\n    }\n\n    .dataframe tbody tr th {\n        vertical-align: top;\n    }\n\n    .dataframe thead th {\n        text-align: right;\n    }\n</style>\n<table border=\"1\" class=\"dataframe\">\n  <thead>\n    <tr style=\"text-align: right;\">\n      <th></th>\n      <th></th>\n      <th></th>\n    </tr>\n    <tr>\n      <th></th>\n      <th></th>\n      <th></th>\n    </tr>\n  </thead>\n  <tbody>\n    <tr>\n      <th>Initiated</th>\n      <td>. . . . . . . . . . . . . . . . . .</td>\n      <td>14:30:21</td>\n    </tr>\n    <tr>\n      <th>Status</th>\n      <td>. . . . . . . . . . . . . . . . . .</td>\n      <td>Loading Dependencies</td>\n    </tr>\n    <tr>\n      <th>Estimator</th>\n      <td>. . . . . . . . . . . . . . . . . .</td>\n      <td>Compiling Library</td>\n    </tr>\n  </tbody>\n</table>\n</div>"
     },
     "metadata": {},
     "output_type": "display_data"
    },
    {
     "data": {
      "text/plain": "<IPython.core.display.HTML object>",
      "text/html": ""
     },
     "metadata": {},
     "output_type": "display_data"
    },
    {
     "data": {
      "text/plain": "Processing:   0%|          | 0/7 [00:00<?, ?it/s]",
      "application/vnd.jupyter.widget-view+json": {
       "version_major": 2,
       "version_minor": 0,
       "model_id": "1a96972e02984657a2db1a00d9924c08"
      }
     },
     "metadata": {},
     "output_type": "display_data"
    },
    {
     "name": "stdout",
     "output_type": "stream",
     "text": [
      "Fitting 10 folds for each of 10 candidates, totalling 100 fits\n",
      "Original model was better than the tuned model, hence it will be returned. NOTE: The display metrics are for the tuned model (not the original one).\n"
     ]
    }
   ],
   "source": [
    "tuned_models = [tune_model(model) for model in top5]"
   ],
   "metadata": {
    "collapsed": false,
    "ExecuteTime": {
     "end_time": "2023-11-28T05:31:12.497333900Z",
     "start_time": "2023-11-28T05:21:30.755418100Z"
    }
   }
  },
  {
   "cell_type": "code",
   "execution_count": 25,
   "outputs": [
    {
     "data": {
      "text/plain": "                                                                    \n                                                                    \nInitiated  . . . . . . . . . . . . . . . . . .              14:32:06\nStatus     . . . . . . . . . . . . . . . . . .  Loading Dependencies\nEstimator  . . . . . . . . . . . . . . . . . .     Compiling Library",
      "text/html": "<div>\n<style scoped>\n    .dataframe tbody tr th:only-of-type {\n        vertical-align: middle;\n    }\n\n    .dataframe tbody tr th {\n        vertical-align: top;\n    }\n\n    .dataframe thead th {\n        text-align: right;\n    }\n</style>\n<table border=\"1\" class=\"dataframe\">\n  <thead>\n    <tr style=\"text-align: right;\">\n      <th></th>\n      <th></th>\n      <th></th>\n    </tr>\n    <tr>\n      <th></th>\n      <th></th>\n      <th></th>\n    </tr>\n  </thead>\n  <tbody>\n    <tr>\n      <th>Initiated</th>\n      <td>. . . . . . . . . . . . . . . . . .</td>\n      <td>14:32:06</td>\n    </tr>\n    <tr>\n      <th>Status</th>\n      <td>. . . . . . . . . . . . . . . . . .</td>\n      <td>Loading Dependencies</td>\n    </tr>\n    <tr>\n      <th>Estimator</th>\n      <td>. . . . . . . . . . . . . . . . . .</td>\n      <td>Compiling Library</td>\n    </tr>\n  </tbody>\n</table>\n</div>"
     },
     "metadata": {},
     "output_type": "display_data"
    },
    {
     "data": {
      "text/plain": "<IPython.core.display.HTML object>",
      "text/html": ""
     },
     "metadata": {},
     "output_type": "display_data"
    },
    {
     "data": {
      "text/plain": "Processing:   0%|          | 0/6 [00:00<?, ?it/s]",
      "application/vnd.jupyter.widget-view+json": {
       "version_major": 2,
       "version_minor": 0,
       "model_id": "2a89f962617540bd952f42b4e8e3142e"
      }
     },
     "metadata": {},
     "output_type": "display_data"
    }
   ],
   "source": [
    "blended_model = blend_models(estimator_list=tuned_models)"
   ],
   "metadata": {
    "collapsed": false,
    "ExecuteTime": {
     "end_time": "2023-11-28T05:33:11.299391Z",
     "start_time": "2023-11-28T05:32:06.848922900Z"
    }
   }
  },
  {
   "cell_type": "code",
   "execution_count": 26,
   "outputs": [
    {
     "data": {
      "text/plain": "<IPython.core.display.HTML object>",
      "text/html": ""
     },
     "metadata": {},
     "output_type": "display_data"
    },
    {
     "data": {
      "text/plain": "          연   월   일  시간  encoded_0  encoded_1  encoded_2  encoded_3  \\\n0      2022   1   1   1        0.0        0.0        0.0        0.0   \n1      2022   1   1   1        0.0        0.0        0.0        0.0   \n2      2022   1   1   4        0.0        0.0        0.0        0.0   \n3      2022   1   1   4        0.0        0.0        0.0        0.0   \n4      2022   1   1   6        0.0        0.0        0.0        0.0   \n...     ...  ..  ..  ..        ...        ...        ...        ...   \n10958  2022  12  31  18        0.0        0.0        0.0        0.0   \n10959  2022  12  31  18        0.0        0.0        0.0        0.0   \n10960  2022  12  31  20        0.0        0.0        0.0        0.0   \n10961  2022  12  31  20        0.0        0.0        0.0        0.0   \n10962  2022  12  31  21        0.0        0.0        0.0        0.0   \n\n       encoded_4  encoded_5  ...  encoded_230  encoded_231  encoded_232  \\\n0            1.0        0.0  ...          0.0          1.0          0.0   \n1            1.0        0.0  ...          0.0          0.0          0.0   \n2            1.0        0.0  ...          0.0          1.0          0.0   \n3            1.0        0.0  ...          0.0          0.0          0.0   \n4            1.0        0.0  ...          0.0          1.0          0.0   \n...          ...        ...  ...          ...          ...          ...   \n10958        1.0        0.0  ...          0.0          0.0          0.0   \n10959        1.0        0.0  ...          0.0          0.0          0.0   \n10960        1.0        0.0  ...          0.0          0.0          0.0   \n10961        1.0        0.0  ...          1.0          0.0          0.0   \n10962        1.0        0.0  ...          1.0          0.0          0.0   \n\n       encoded_233  encoded_234  encoded_235  encoded_236  encoded_237  \\\n0              0.0          0.0          0.0          0.0          0.0   \n1              1.0          0.0          0.0          0.0          0.0   \n2              0.0          0.0          0.0          0.0          0.0   \n3              1.0          0.0          0.0          0.0          0.0   \n4              0.0          0.0          0.0          0.0          0.0   \n...            ...          ...          ...          ...          ...   \n10958          0.0          0.0          0.0          0.0          1.0   \n10959          1.0          0.0          0.0          0.0          0.0   \n10960          1.0          0.0          0.0          0.0          0.0   \n10961          0.0          0.0          0.0          0.0          0.0   \n10962          0.0          0.0          0.0          0.0          0.0   \n\n       encoded_238  prediction_label  \n0              0.0          4.726076  \n1              0.0          4.671348  \n2              0.0          4.783364  \n3              0.0          4.730107  \n4              0.0          4.781302  \n...            ...               ...  \n10958          0.0          4.463850  \n10959          0.0          4.542132  \n10960          0.0          4.535426  \n10961          0.0          4.568445  \n10962          0.0          4.570868  \n\n[10963 rows x 244 columns]",
      "text/html": "<div>\n<style scoped>\n    .dataframe tbody tr th:only-of-type {\n        vertical-align: middle;\n    }\n\n    .dataframe tbody tr th {\n        vertical-align: top;\n    }\n\n    .dataframe thead th {\n        text-align: right;\n    }\n</style>\n<table border=\"1\" class=\"dataframe\">\n  <thead>\n    <tr style=\"text-align: right;\">\n      <th></th>\n      <th>연</th>\n      <th>월</th>\n      <th>일</th>\n      <th>시간</th>\n      <th>encoded_0</th>\n      <th>encoded_1</th>\n      <th>encoded_2</th>\n      <th>encoded_3</th>\n      <th>encoded_4</th>\n      <th>encoded_5</th>\n      <th>...</th>\n      <th>encoded_230</th>\n      <th>encoded_231</th>\n      <th>encoded_232</th>\n      <th>encoded_233</th>\n      <th>encoded_234</th>\n      <th>encoded_235</th>\n      <th>encoded_236</th>\n      <th>encoded_237</th>\n      <th>encoded_238</th>\n      <th>prediction_label</th>\n    </tr>\n  </thead>\n  <tbody>\n    <tr>\n      <th>0</th>\n      <td>2022</td>\n      <td>1</td>\n      <td>1</td>\n      <td>1</td>\n      <td>0.0</td>\n      <td>0.0</td>\n      <td>0.0</td>\n      <td>0.0</td>\n      <td>1.0</td>\n      <td>0.0</td>\n      <td>...</td>\n      <td>0.0</td>\n      <td>1.0</td>\n      <td>0.0</td>\n      <td>0.0</td>\n      <td>0.0</td>\n      <td>0.0</td>\n      <td>0.0</td>\n      <td>0.0</td>\n      <td>0.0</td>\n      <td>4.726076</td>\n    </tr>\n    <tr>\n      <th>1</th>\n      <td>2022</td>\n      <td>1</td>\n      <td>1</td>\n      <td>1</td>\n      <td>0.0</td>\n      <td>0.0</td>\n      <td>0.0</td>\n      <td>0.0</td>\n      <td>1.0</td>\n      <td>0.0</td>\n      <td>...</td>\n      <td>0.0</td>\n      <td>0.0</td>\n      <td>0.0</td>\n      <td>1.0</td>\n      <td>0.0</td>\n      <td>0.0</td>\n      <td>0.0</td>\n      <td>0.0</td>\n      <td>0.0</td>\n      <td>4.671348</td>\n    </tr>\n    <tr>\n      <th>2</th>\n      <td>2022</td>\n      <td>1</td>\n      <td>1</td>\n      <td>4</td>\n      <td>0.0</td>\n      <td>0.0</td>\n      <td>0.0</td>\n      <td>0.0</td>\n      <td>1.0</td>\n      <td>0.0</td>\n      <td>...</td>\n      <td>0.0</td>\n      <td>1.0</td>\n      <td>0.0</td>\n      <td>0.0</td>\n      <td>0.0</td>\n      <td>0.0</td>\n      <td>0.0</td>\n      <td>0.0</td>\n      <td>0.0</td>\n      <td>4.783364</td>\n    </tr>\n    <tr>\n      <th>3</th>\n      <td>2022</td>\n      <td>1</td>\n      <td>1</td>\n      <td>4</td>\n      <td>0.0</td>\n      <td>0.0</td>\n      <td>0.0</td>\n      <td>0.0</td>\n      <td>1.0</td>\n      <td>0.0</td>\n      <td>...</td>\n      <td>0.0</td>\n      <td>0.0</td>\n      <td>0.0</td>\n      <td>1.0</td>\n      <td>0.0</td>\n      <td>0.0</td>\n      <td>0.0</td>\n      <td>0.0</td>\n      <td>0.0</td>\n      <td>4.730107</td>\n    </tr>\n    <tr>\n      <th>4</th>\n      <td>2022</td>\n      <td>1</td>\n      <td>1</td>\n      <td>6</td>\n      <td>0.0</td>\n      <td>0.0</td>\n      <td>0.0</td>\n      <td>0.0</td>\n      <td>1.0</td>\n      <td>0.0</td>\n      <td>...</td>\n      <td>0.0</td>\n      <td>1.0</td>\n      <td>0.0</td>\n      <td>0.0</td>\n      <td>0.0</td>\n      <td>0.0</td>\n      <td>0.0</td>\n      <td>0.0</td>\n      <td>0.0</td>\n      <td>4.781302</td>\n    </tr>\n    <tr>\n      <th>...</th>\n      <td>...</td>\n      <td>...</td>\n      <td>...</td>\n      <td>...</td>\n      <td>...</td>\n      <td>...</td>\n      <td>...</td>\n      <td>...</td>\n      <td>...</td>\n      <td>...</td>\n      <td>...</td>\n      <td>...</td>\n      <td>...</td>\n      <td>...</td>\n      <td>...</td>\n      <td>...</td>\n      <td>...</td>\n      <td>...</td>\n      <td>...</td>\n      <td>...</td>\n      <td>...</td>\n    </tr>\n    <tr>\n      <th>10958</th>\n      <td>2022</td>\n      <td>12</td>\n      <td>31</td>\n      <td>18</td>\n      <td>0.0</td>\n      <td>0.0</td>\n      <td>0.0</td>\n      <td>0.0</td>\n      <td>1.0</td>\n      <td>0.0</td>\n      <td>...</td>\n      <td>0.0</td>\n      <td>0.0</td>\n      <td>0.0</td>\n      <td>0.0</td>\n      <td>0.0</td>\n      <td>0.0</td>\n      <td>0.0</td>\n      <td>1.0</td>\n      <td>0.0</td>\n      <td>4.463850</td>\n    </tr>\n    <tr>\n      <th>10959</th>\n      <td>2022</td>\n      <td>12</td>\n      <td>31</td>\n      <td>18</td>\n      <td>0.0</td>\n      <td>0.0</td>\n      <td>0.0</td>\n      <td>0.0</td>\n      <td>1.0</td>\n      <td>0.0</td>\n      <td>...</td>\n      <td>0.0</td>\n      <td>0.0</td>\n      <td>0.0</td>\n      <td>1.0</td>\n      <td>0.0</td>\n      <td>0.0</td>\n      <td>0.0</td>\n      <td>0.0</td>\n      <td>0.0</td>\n      <td>4.542132</td>\n    </tr>\n    <tr>\n      <th>10960</th>\n      <td>2022</td>\n      <td>12</td>\n      <td>31</td>\n      <td>20</td>\n      <td>0.0</td>\n      <td>0.0</td>\n      <td>0.0</td>\n      <td>0.0</td>\n      <td>1.0</td>\n      <td>0.0</td>\n      <td>...</td>\n      <td>0.0</td>\n      <td>0.0</td>\n      <td>0.0</td>\n      <td>1.0</td>\n      <td>0.0</td>\n      <td>0.0</td>\n      <td>0.0</td>\n      <td>0.0</td>\n      <td>0.0</td>\n      <td>4.535426</td>\n    </tr>\n    <tr>\n      <th>10961</th>\n      <td>2022</td>\n      <td>12</td>\n      <td>31</td>\n      <td>20</td>\n      <td>0.0</td>\n      <td>0.0</td>\n      <td>0.0</td>\n      <td>0.0</td>\n      <td>1.0</td>\n      <td>0.0</td>\n      <td>...</td>\n      <td>1.0</td>\n      <td>0.0</td>\n      <td>0.0</td>\n      <td>0.0</td>\n      <td>0.0</td>\n      <td>0.0</td>\n      <td>0.0</td>\n      <td>0.0</td>\n      <td>0.0</td>\n      <td>4.568445</td>\n    </tr>\n    <tr>\n      <th>10962</th>\n      <td>2022</td>\n      <td>12</td>\n      <td>31</td>\n      <td>21</td>\n      <td>0.0</td>\n      <td>0.0</td>\n      <td>0.0</td>\n      <td>0.0</td>\n      <td>1.0</td>\n      <td>0.0</td>\n      <td>...</td>\n      <td>1.0</td>\n      <td>0.0</td>\n      <td>0.0</td>\n      <td>0.0</td>\n      <td>0.0</td>\n      <td>0.0</td>\n      <td>0.0</td>\n      <td>0.0</td>\n      <td>0.0</td>\n      <td>4.570868</td>\n    </tr>\n  </tbody>\n</table>\n<p>10963 rows × 244 columns</p>\n</div>"
     },
     "execution_count": 26,
     "metadata": {},
     "output_type": "execute_result"
    }
   ],
   "source": [
    "pred = predict_model(blended_model, data=test_x)\n",
    "pred"
   ],
   "metadata": {
    "collapsed": false,
    "ExecuteTime": {
     "end_time": "2023-11-28T05:33:12.062676800Z",
     "start_time": "2023-11-28T05:33:11.319396200Z"
    }
   }
  },
  {
   "cell_type": "code",
   "execution_count": 27,
   "metadata": {
    "ExecuteTime": {
     "end_time": "2023-11-28T05:33:12.148637600Z",
     "start_time": "2023-11-28T05:33:12.076040700Z"
    }
   },
   "outputs": [],
   "source": [
    "prediction = pred['prediction_label']"
   ]
  },
  {
   "cell_type": "code",
   "execution_count": 28,
   "metadata": {
    "ExecuteTime": {
     "end_time": "2023-11-28T05:33:12.197853400Z",
     "start_time": "2023-11-28T05:33:12.089714200Z"
    }
   },
   "outputs": [
    {
     "data": {
      "text/plain": "                   ID      ECLO\n0      ACCIDENT_39609  4.726076\n1      ACCIDENT_39610  4.671348\n2      ACCIDENT_39611  4.783364\n3      ACCIDENT_39612  4.730107\n4      ACCIDENT_39613  4.781302\n...               ...       ...\n10958  ACCIDENT_50567  4.463850\n10959  ACCIDENT_50568  4.542132\n10960  ACCIDENT_50569  4.535426\n10961  ACCIDENT_50570  4.568445\n10962  ACCIDENT_50571  4.570868\n\n[10963 rows x 2 columns]",
      "text/html": "<div>\n<style scoped>\n    .dataframe tbody tr th:only-of-type {\n        vertical-align: middle;\n    }\n\n    .dataframe tbody tr th {\n        vertical-align: top;\n    }\n\n    .dataframe thead th {\n        text-align: right;\n    }\n</style>\n<table border=\"1\" class=\"dataframe\">\n  <thead>\n    <tr style=\"text-align: right;\">\n      <th></th>\n      <th>ID</th>\n      <th>ECLO</th>\n    </tr>\n  </thead>\n  <tbody>\n    <tr>\n      <th>0</th>\n      <td>ACCIDENT_39609</td>\n      <td>4.726076</td>\n    </tr>\n    <tr>\n      <th>1</th>\n      <td>ACCIDENT_39610</td>\n      <td>4.671348</td>\n    </tr>\n    <tr>\n      <th>2</th>\n      <td>ACCIDENT_39611</td>\n      <td>4.783364</td>\n    </tr>\n    <tr>\n      <th>3</th>\n      <td>ACCIDENT_39612</td>\n      <td>4.730107</td>\n    </tr>\n    <tr>\n      <th>4</th>\n      <td>ACCIDENT_39613</td>\n      <td>4.781302</td>\n    </tr>\n    <tr>\n      <th>...</th>\n      <td>...</td>\n      <td>...</td>\n    </tr>\n    <tr>\n      <th>10958</th>\n      <td>ACCIDENT_50567</td>\n      <td>4.463850</td>\n    </tr>\n    <tr>\n      <th>10959</th>\n      <td>ACCIDENT_50568</td>\n      <td>4.542132</td>\n    </tr>\n    <tr>\n      <th>10960</th>\n      <td>ACCIDENT_50569</td>\n      <td>4.535426</td>\n    </tr>\n    <tr>\n      <th>10961</th>\n      <td>ACCIDENT_50570</td>\n      <td>4.568445</td>\n    </tr>\n    <tr>\n      <th>10962</th>\n      <td>ACCIDENT_50571</td>\n      <td>4.570868</td>\n    </tr>\n  </tbody>\n</table>\n<p>10963 rows × 2 columns</p>\n</div>"
     },
     "execution_count": 28,
     "metadata": {},
     "output_type": "execute_result"
    }
   ],
   "source": [
    "baseline_submission = sample_submission.copy()\n",
    "baseline_submission['ECLO'] = prediction\n",
    "baseline_submission "
   ]
  },
  {
   "cell_type": "code",
   "execution_count": 29,
   "metadata": {
    "ExecuteTime": {
     "end_time": "2023-11-28T05:33:12.315231800Z",
     "start_time": "2023-11-28T05:33:12.114295800Z"
    }
   },
   "outputs": [],
   "source": [
    "baseline_submission.to_csv('pycaret_countrywide_sampling2_OE.csv', index=False)"
   ]
  },
  {
   "cell_type": "code",
   "execution_count": null,
   "metadata": {},
   "outputs": [],
   "source": []
  }
 ],
 "metadata": {
  "kernelspec": {
   "display_name": "dacon",
   "language": "python",
   "name": "python3"
  },
  "language_info": {
   "codemirror_mode": {
    "name": "ipython",
    "version": 3
   },
   "file_extension": ".py",
   "mimetype": "text/x-python",
   "name": "python",
   "nbconvert_exporter": "python",
   "pygments_lexer": "ipython3",
   "version": "3.8.0"
  }
 },
 "nbformat": 4,
 "nbformat_minor": 2
}
