{
 "cells": [
  {
   "cell_type": "code",
   "execution_count": 1,
   "metadata": {},
   "outputs": [],
   "source": [
    "import subprocess"
   ]
  },
  {
   "cell_type": "code",
   "execution_count": 2,
   "metadata": {},
   "outputs": [],
   "source": [
    "# 초기 값들\n",
    "default_command = ['python','main.py','--mode','test','--batch-size','400']\n",
    "\n",
    "work_dir = 'E:\\\\codes\\\\ckm\\\\modeling\\\\MSFlow\\\\work_dirs'\n",
    "\n",
    "commands = {'resnet18_gpu0': default_command+['--gpu', '0', '--eval_ckpt', work_dir+'\\\\msflow_resnet18_avgpool_pl258\\\\textile\\\\best_det.pt','--extractor', 'resnet18'],\n",
    "            'resnet18_gpu1': default_command+['--gpu', '1', '--eval_ckpt', work_dir+'\\\\msflow_resnet18_avgpool_pl258\\\\textile\\\\best_det.pt','--extractor', 'resnet18'],\n",
    "            'resnet34_gpu0': default_command+['--gpu', '0', '--eval_ckpt', work_dir+'\\\\msflow_resnet34_avgpool_pl258\\\\textile\\\\best_det.pt','--extractor', 'resnet34'],\n",
    "            'resnet34_gpu1': default_command+['--gpu', '1', '--eval_ckpt', work_dir+'\\\\msflow_resnet34_avgpool_pl258\\\\textile\\\\best_det.pt','--extractor', 'resnet34'],\n",
    "            'wide_resnet50_2_gpu0': default_command+['--gpu', '0', '--eval_ckpt', work_dir+'\\\\msflow_wide_resnet50_2_avgpool_pl258\\\\textile\\\\best_det.pt'],\n",
    "            'wide_resnet50_2_gpu1': default_command+['--gpu', '1', '--eval_ckpt', work_dir+'\\\\msflow_wide_resnet50_2_avgpool_pl258\\\\textile\\\\best_det.pt'],}\n",
    "\n",
    "ITER_MAX = 50"
   ]
  },
  {
   "cell_type": "code",
   "execution_count": 3,
   "metadata": {},
   "outputs": [],
   "source": [
    "result = {setting : [] for setting in commands.keys()}"
   ]
  },
  {
   "cell_type": "code",
   "execution_count": 4,
   "metadata": {},
   "outputs": [
    {
     "data": {
      "text/plain": [
       "'\\n\\noutputs = gpu_info = \\n{\\n    \"gpu_num\": \"int value -> 0 or 1\",\\n    \"gpu_percentage\":{\\n        \"min_usage\": \"float value -> %\",\\n        \"max_usage\": \"float value -> %\",\\n        \"avg_usage\": \"float value -> %\"\\n    },\\n    \"gpu_memory\":{\\n        \"min_memory\": \"float value -> MB\",\\n        \"max_memory\": \"float value -> MB\",\\n        \"avg_memory\": \"float value -> MB\"\\n    },\\n    \"cuda_memory\":{\\n        \"cuda_min_memory\": \"float value -> MB\",\\n        \"cuda_max_memory\": \"float value -> MB\",\\n        \"cuda_avg_memory\": \"float value -> MB\"\\n    }\\n} \\n\\n'"
      ]
     },
     "execution_count": 4,
     "metadata": {},
     "output_type": "execute_result"
    }
   ],
   "source": [
    "\n",
    "# outputs는 main 메소드의 return 값인 이중 딕셔너리 구조\n",
    "# 아래와 같은 구조를 띈다.\n",
    "\"\"\"\n",
    "\n",
    "outputs = gpu_info = \n",
    "{\n",
    "    \"gpu_num\": \"int value -> 0 or 1\",\n",
    "    \"gpu_percentage\":{\n",
    "        \"min_usage\": \"float value -> %\",\n",
    "        \"max_usage\": \"float value -> %\",\n",
    "        \"avg_usage\": \"float value -> %\"\n",
    "    },\n",
    "    \"gpu_memory\":{\n",
    "        \"min_memory\": \"float value -> MB\",\n",
    "        \"max_memory\": \"float value -> MB\",\n",
    "        \"avg_memory\": \"float value -> MB\"\n",
    "    },\n",
    "    \"cuda_memory\":{\n",
    "        \"cuda_min_memory\": \"float value -> MB\",\n",
    "        \"cuda_max_memory\": \"float value -> MB\",\n",
    "        \"cuda_avg_memory\": \"float value -> MB\"\n",
    "    }\n",
    "} \n",
    "\n",
    "\"\"\"\n"
   ]
  },
  {
   "cell_type": "code",
   "execution_count": 5,
   "metadata": {},
   "outputs": [],
   "source": [
    "for _ in range(ITER_MAX):\n",
    "    for setting, command in commands.items():\n",
    "        sbp = subprocess.run(command, capture_output=True, text=True)\n",
    "\n",
    "        outputs = sbp.returncode\n",
    "\n",
    "        result[setting].append(outputs)"
   ]
  },
  {
   "cell_type": "code",
   "execution_count": null,
   "metadata": {},
   "outputs": [],
   "source": []
  }
 ],
 "metadata": {
  "kernelspec": {
   "display_name": "msflow_env",
   "language": "python",
   "name": "python3"
  },
  "language_info": {
   "codemirror_mode": {
    "name": "ipython",
    "version": 3
   },
   "file_extension": ".py",
   "mimetype": "text/x-python",
   "name": "python",
   "nbconvert_exporter": "python",
   "pygments_lexer": "ipython3",
   "version": "3.9.18"
  }
 },
 "nbformat": 4,
 "nbformat_minor": 2
}
