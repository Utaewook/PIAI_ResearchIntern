{
 "cells": [
  {
   "cell_type": "code",
   "execution_count": 5,
   "outputs": [],
   "source": [
    "import pandas as pd\n",
    "import seaborn as sns\n",
    "import matplotlib.pyplot as plt\n",
    "import warnings\n",
    "\n",
    "%matplotlib inline\n",
    "warnings.filterwarnings('ignore')"
   ],
   "metadata": {
    "collapsed": false,
    "ExecuteTime": {
     "end_time": "2023-12-14T02:55:23.289070700Z",
     "start_time": "2023-12-14T02:55:20.577911200Z"
    }
   },
   "id": "9ab56fbc7a945e38"
  },
  {
   "cell_type": "code",
   "execution_count": 4,
   "outputs": [],
   "source": [
    "data_path = '../data/'"
   ],
   "metadata": {
    "collapsed": false,
    "ExecuteTime": {
     "end_time": "2023-12-14T02:54:35.994034100Z",
     "start_time": "2023-12-14T02:54:35.962747900Z"
    }
   },
   "id": "c0921d1b15da77d4"
  },
  {
   "cell_type": "code",
   "execution_count": 12,
   "outputs": [],
   "source": [
    "src = pd.read_excel(data_path+'포스위키_질문_sampling_1.xlsx')"
   ],
   "metadata": {
    "collapsed": false,
    "ExecuteTime": {
     "end_time": "2023-12-14T08:48:38.181856800Z",
     "start_time": "2023-12-14T08:48:37.873583300Z"
    }
   },
   "id": "1a2641c66f45fd30"
  },
  {
   "cell_type": "code",
   "execution_count": 13,
   "outputs": [
    {
     "data": {
      "text/plain": "   Unnamed: 0    대구분   중구분  소구분                       부서 질문/답변  \\\n0           7   경영전략  경영기획  NaN           인사문화실 인사문화기획그룹    질문   \n1           9    마케팅  판매전략  NaN  강건재마케팅실 건설강재판매그룹 강관건재섹션    질문   \n2          23     기술   에너지  NaN           인사문화실 인사문화기획그룹    질문   \n3          65  구매/투자  자재구매  NaN         (포항)압연설비부 선재정비섹션    질문   \n4          73   조업기술    냉연  NaN      (포항)STS압연부 열연기술개발섹션    질문   \n\n                               제목  \\\n0            경영기획 직무에 대해 알고 싶습니다.   \n1                국내 강건재시장 현재 및 미래   \n2          에너지/발전부서 업무에 대해 궁금합니다.   \n3  \"손잡이 있는\" 4인치 핸드그라인더 Q코드가 궁금합니다   \n4    #2PCM 압연시 Work Roll Shift 관련   \n\n                                                  내용                  등록일  \\\n0  저는 입사후 계속 마케팅에서 탄소강 제품 판매 업무만 담당해왔습니다. 주로 도금제품...  2020/04/14 17:40:23   \n1  지속적으로 인프라(SOC)산업, 공공주택, 상업빌딩이 증가하는 추세인 한국 강건재 ...  2020/11/11 13:30:47   \n2  1. 에너지부와 발전부의 역할과 두 부서의 차이점이 궁금합니다.2. 제철소에서 사용...  2020/04/14 17:56:59   \n3  안녕하세요 선배님들 지구정비로 근무하는 직원입니다.이번에 제철소에서 사고가 나서 손...  2021/08/19 08:59:56   \n4  2냉연 공장에서 STS 일부강종(409L, 439)를 생산하고 있는데 냉간압연 시,...  2020/12/22 08:29:13   \n\n   GPT 가능여부  \n0         1  \n1         1  \n2         1  \n3         1  \n4         1  ",
      "text/html": "<div>\n<style scoped>\n    .dataframe tbody tr th:only-of-type {\n        vertical-align: middle;\n    }\n\n    .dataframe tbody tr th {\n        vertical-align: top;\n    }\n\n    .dataframe thead th {\n        text-align: right;\n    }\n</style>\n<table border=\"1\" class=\"dataframe\">\n  <thead>\n    <tr style=\"text-align: right;\">\n      <th></th>\n      <th>Unnamed: 0</th>\n      <th>대구분</th>\n      <th>중구분</th>\n      <th>소구분</th>\n      <th>부서</th>\n      <th>질문/답변</th>\n      <th>제목</th>\n      <th>내용</th>\n      <th>등록일</th>\n      <th>GPT 가능여부</th>\n    </tr>\n  </thead>\n  <tbody>\n    <tr>\n      <th>0</th>\n      <td>7</td>\n      <td>경영전략</td>\n      <td>경영기획</td>\n      <td>NaN</td>\n      <td>인사문화실 인사문화기획그룹</td>\n      <td>질문</td>\n      <td>경영기획 직무에 대해 알고 싶습니다.</td>\n      <td>저는 입사후 계속 마케팅에서 탄소강 제품 판매 업무만 담당해왔습니다. 주로 도금제품...</td>\n      <td>2020/04/14 17:40:23</td>\n      <td>1</td>\n    </tr>\n    <tr>\n      <th>1</th>\n      <td>9</td>\n      <td>마케팅</td>\n      <td>판매전략</td>\n      <td>NaN</td>\n      <td>강건재마케팅실 건설강재판매그룹 강관건재섹션</td>\n      <td>질문</td>\n      <td>국내 강건재시장 현재 및 미래</td>\n      <td>지속적으로 인프라(SOC)산업, 공공주택, 상업빌딩이 증가하는 추세인 한국 강건재 ...</td>\n      <td>2020/11/11 13:30:47</td>\n      <td>1</td>\n    </tr>\n    <tr>\n      <th>2</th>\n      <td>23</td>\n      <td>기술</td>\n      <td>에너지</td>\n      <td>NaN</td>\n      <td>인사문화실 인사문화기획그룹</td>\n      <td>질문</td>\n      <td>에너지/발전부서 업무에 대해 궁금합니다.</td>\n      <td>1. 에너지부와 발전부의 역할과 두 부서의 차이점이 궁금합니다.2. 제철소에서 사용...</td>\n      <td>2020/04/14 17:56:59</td>\n      <td>1</td>\n    </tr>\n    <tr>\n      <th>3</th>\n      <td>65</td>\n      <td>구매/투자</td>\n      <td>자재구매</td>\n      <td>NaN</td>\n      <td>(포항)압연설비부 선재정비섹션</td>\n      <td>질문</td>\n      <td>\"손잡이 있는\" 4인치 핸드그라인더 Q코드가 궁금합니다</td>\n      <td>안녕하세요 선배님들 지구정비로 근무하는 직원입니다.이번에 제철소에서 사고가 나서 손...</td>\n      <td>2021/08/19 08:59:56</td>\n      <td>1</td>\n    </tr>\n    <tr>\n      <th>4</th>\n      <td>73</td>\n      <td>조업기술</td>\n      <td>냉연</td>\n      <td>NaN</td>\n      <td>(포항)STS압연부 열연기술개발섹션</td>\n      <td>질문</td>\n      <td>#2PCM 압연시 Work Roll Shift 관련</td>\n      <td>2냉연 공장에서 STS 일부강종(409L, 439)를 생산하고 있는데 냉간압연 시,...</td>\n      <td>2020/12/22 08:29:13</td>\n      <td>1</td>\n    </tr>\n  </tbody>\n</table>\n</div>"
     },
     "execution_count": 13,
     "metadata": {},
     "output_type": "execute_result"
    }
   ],
   "source": [
    "src.head()"
   ],
   "metadata": {
    "collapsed": false,
    "ExecuteTime": {
     "end_time": "2023-12-14T08:48:38.938476600Z",
     "start_time": "2023-12-14T08:48:38.891596600Z"
    }
   },
   "id": "f965b5fa9ac4f5ec"
  },
  {
   "cell_type": "code",
   "execution_count": null,
   "outputs": [],
   "source": [],
   "metadata": {
    "collapsed": false
   },
   "id": "95e58e69eab3061b"
  }
 ],
 "metadata": {
  "kernelspec": {
   "display_name": "Python 3",
   "language": "python",
   "name": "python3"
  },
  "language_info": {
   "codemirror_mode": {
    "name": "ipython",
    "version": 2
   },
   "file_extension": ".py",
   "mimetype": "text/x-python",
   "name": "python",
   "nbconvert_exporter": "python",
   "pygments_lexer": "ipython2",
   "version": "2.7.6"
  }
 },
 "nbformat": 4,
 "nbformat_minor": 5
}
